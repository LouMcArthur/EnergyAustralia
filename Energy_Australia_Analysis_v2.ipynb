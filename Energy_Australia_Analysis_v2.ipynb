{
 "cells": [
  {
   "cell_type": "markdown",
   "id": "c5e313c9",
   "metadata": {},
   "source": [
    "# Energy Australia Graduate Data Scientist Interview Case Study"
   ]
  },
  {
   "cell_type": "markdown",
   "id": "35891b64",
   "metadata": {},
   "source": [
    "Name: Lou Mcarthur\n",
    "\n",
    "Role: Graduate Data Scientist\n",
    "\n",
    "Date: 28/03/2023"
   ]
  },
  {
   "cell_type": "markdown",
   "id": "30cb52c2",
   "metadata": {},
   "source": [
    "## Packs"
   ]
  },
  {
   "cell_type": "code",
   "execution_count": 1,
   "id": "fff7d7cb-11ea-4dbc-969e-8ab984257b79",
   "metadata": {
    "tags": []
   },
   "outputs": [],
   "source": [
    "import pandas as pd\n",
    "import numpy as np\n",
    "import seaborn as sns\n",
    "import matplotlib.pyplot as plt\n",
    "import plotly.offline as pyo\n",
    "import plotly.express as px\n",
    "import sqlite3\n",
    "import sqlalchemy\n",
    "from sqlalchemy import create_engine, inspect\n",
    "from sqlalchemy import create_engine, text"
   ]
  },
  {
   "cell_type": "markdown",
   "id": "375a64d2",
   "metadata": {},
   "source": [
    "## EDA and Preprocessing data"
   ]
  },
  {
   "cell_type": "code",
   "execution_count": 2,
   "id": "23e9553a-e719-48c0-a250-7b5829184a38",
   "metadata": {},
   "outputs": [
    {
     "data": {
      "text/html": [
       "<div>\n",
       "<style scoped>\n",
       "    .dataframe tbody tr th:only-of-type {\n",
       "        vertical-align: middle;\n",
       "    }\n",
       "\n",
       "    .dataframe tbody tr th {\n",
       "        vertical-align: top;\n",
       "    }\n",
       "\n",
       "    .dataframe thead th {\n",
       "        text-align: right;\n",
       "    }\n",
       "</style>\n",
       "<table border=\"1\" class=\"dataframe\">\n",
       "  <thead>\n",
       "    <tr style=\"text-align: right;\">\n",
       "      <th></th>\n",
       "      <th>Unnamed: 0</th>\n",
       "      <th>ACCT_ID_M</th>\n",
       "      <th>CUST_ID</th>\n",
       "      <th>STREAMING_SERVICE</th>\n",
       "      <th>ACCT_TYPE</th>\n",
       "      <th>SERVICE_TYPE</th>\n",
       "      <th>CONT_TENURE_MTHS</th>\n",
       "      <th>CUSTOMER_AGE</th>\n",
       "      <th>NUM_CUSTOMER_BILLABLE_ACCOUNTS</th>\n",
       "      <th>CONSUME_SPORTS_SUBSIDISED</th>\n",
       "      <th>TOTAL_DISCOUNT_PERCENT</th>\n",
       "    </tr>\n",
       "  </thead>\n",
       "  <tbody>\n",
       "    <tr>\n",
       "      <th>0</th>\n",
       "      <td>1085553</td>\n",
       "      <td>22929283</td>\n",
       "      <td>14824778</td>\n",
       "      <td>NETFLIX</td>\n",
       "      <td>INDIVIDUAL</td>\n",
       "      <td>SPORTS</td>\n",
       "      <td>21</td>\n",
       "      <td>49.0</td>\n",
       "      <td>3</td>\n",
       "      <td>0</td>\n",
       "      <td>0</td>\n",
       "    </tr>\n",
       "    <tr>\n",
       "      <th>1</th>\n",
       "      <td>199699</td>\n",
       "      <td>16923669</td>\n",
       "      <td>8831720</td>\n",
       "      <td>NETFLIX</td>\n",
       "      <td>INDIVIDUAL</td>\n",
       "      <td>SPORTS</td>\n",
       "      <td>67</td>\n",
       "      <td>56.0</td>\n",
       "      <td>1</td>\n",
       "      <td>0</td>\n",
       "      <td>30</td>\n",
       "    </tr>\n",
       "    <tr>\n",
       "      <th>2</th>\n",
       "      <td>533407</td>\n",
       "      <td>25124129</td>\n",
       "      <td>19012511</td>\n",
       "      <td>NETFLIX</td>\n",
       "      <td>INDIVIDUAL</td>\n",
       "      <td>ENTERTAINMENT</td>\n",
       "      <td>1</td>\n",
       "      <td>44.0</td>\n",
       "      <td>2</td>\n",
       "      <td>0</td>\n",
       "      <td>0</td>\n",
       "    </tr>\n",
       "    <tr>\n",
       "      <th>3</th>\n",
       "      <td>334221</td>\n",
       "      <td>22430133</td>\n",
       "      <td>164226506</td>\n",
       "      <td>STAN</td>\n",
       "      <td>INDIVIDUAL</td>\n",
       "      <td>ENTERTAINMENT</td>\n",
       "      <td>25</td>\n",
       "      <td>33.0</td>\n",
       "      <td>2</td>\n",
       "      <td>0</td>\n",
       "      <td>13</td>\n",
       "    </tr>\n",
       "    <tr>\n",
       "      <th>4</th>\n",
       "      <td>1529002</td>\n",
       "      <td>16775871</td>\n",
       "      <td>12959210</td>\n",
       "      <td>NETFLIX</td>\n",
       "      <td>INDIVIDUAL</td>\n",
       "      <td>SPORTS</td>\n",
       "      <td>110</td>\n",
       "      <td>94.0</td>\n",
       "      <td>1</td>\n",
       "      <td>0</td>\n",
       "      <td>0</td>\n",
       "    </tr>\n",
       "  </tbody>\n",
       "</table>\n",
       "</div>"
      ],
      "text/plain": [
       "   Unnamed: 0  ACCT_ID_M    CUST_ID STREAMING_SERVICE   ACCT_TYPE  \\\n",
       "0     1085553   22929283   14824778           NETFLIX  INDIVIDUAL   \n",
       "1      199699   16923669    8831720           NETFLIX  INDIVIDUAL   \n",
       "2      533407   25124129   19012511           NETFLIX  INDIVIDUAL   \n",
       "3      334221   22430133  164226506              STAN  INDIVIDUAL   \n",
       "4     1529002   16775871   12959210           NETFLIX  INDIVIDUAL   \n",
       "\n",
       "    SERVICE_TYPE  CONT_TENURE_MTHS  CUSTOMER_AGE  \\\n",
       "0         SPORTS                21          49.0   \n",
       "1         SPORTS                67          56.0   \n",
       "2  ENTERTAINMENT                 1          44.0   \n",
       "3  ENTERTAINMENT                25          33.0   \n",
       "4         SPORTS               110          94.0   \n",
       "\n",
       "   NUM_CUSTOMER_BILLABLE_ACCOUNTS  CONSUME_SPORTS_SUBSIDISED  \\\n",
       "0                               3                          0   \n",
       "1                               1                          0   \n",
       "2                               2                          0   \n",
       "3                               2                          0   \n",
       "4                               1                          0   \n",
       "\n",
       "   TOTAL_DISCOUNT_PERCENT  \n",
       "0                       0  \n",
       "1                      30  \n",
       "2                       0  \n",
       "3                      13  \n",
       "4                       0  "
      ]
     },
     "execution_count": 2,
     "metadata": {},
     "output_type": "execute_result"
    }
   ],
   "source": [
    "BasicAccInfo = df=pd.read_csv('basicAcctInfo.csv')\n",
    "df=pd.read_csv('basicAcctInfo.csv')\n",
    "df.head()"
   ]
  },
  {
   "cell_type": "code",
   "execution_count": 3,
   "id": "d06ce107-b39b-4093-a50d-169e48407127",
   "metadata": {},
   "outputs": [],
   "source": [
    "BasicAccInfo = BasicAccInfo.drop('Unnamed: 0', axis=1)\n",
    "BasicAccInfo = BasicAccInfo.drop('CUSTOMER_AGE', axis=1)\n",
    "BasicAccInfo = BasicAccInfo.drop('CUST_ID', axis=1)\n",
    "BasicAccInfo.dropna(subset=['ACCT_TYPE'], inplace=True)"
   ]
  },
  {
   "cell_type": "code",
   "execution_count": 4,
   "id": "da8293fd-3264-4ae2-a46c-31be1e019221",
   "metadata": {},
   "outputs": [
    {
     "name": "stdout",
     "output_type": "stream",
     "text": [
      "(49994, 8)\n"
     ]
    }
   ],
   "source": [
    "print(BasicAccInfo.shape)"
   ]
  },
  {
   "cell_type": "code",
   "execution_count": 5,
   "id": "9434e45e-0374-4135-a62f-4d788c387ada",
   "metadata": {
    "tags": []
   },
   "outputs": [
    {
     "data": {
      "text/html": [
       "<div>\n",
       "<style scoped>\n",
       "    .dataframe tbody tr th:only-of-type {\n",
       "        vertical-align: middle;\n",
       "    }\n",
       "\n",
       "    .dataframe tbody tr th {\n",
       "        vertical-align: top;\n",
       "    }\n",
       "\n",
       "    .dataframe thead th {\n",
       "        text-align: right;\n",
       "    }\n",
       "</style>\n",
       "<table border=\"1\" class=\"dataframe\">\n",
       "  <thead>\n",
       "    <tr style=\"text-align: right;\">\n",
       "      <th></th>\n",
       "      <th>ACCT_ID_M</th>\n",
       "      <th>CONT_TENURE_MTHS</th>\n",
       "      <th>NUM_CUSTOMER_BILLABLE_ACCOUNTS</th>\n",
       "      <th>CONSUME_SPORTS_SUBSIDISED</th>\n",
       "      <th>TOTAL_DISCOUNT_PERCENT</th>\n",
       "    </tr>\n",
       "  </thead>\n",
       "  <tbody>\n",
       "    <tr>\n",
       "      <th>count</th>\n",
       "      <td>4.999400e+04</td>\n",
       "      <td>49994.000000</td>\n",
       "      <td>49994.000000</td>\n",
       "      <td>49994.000000</td>\n",
       "      <td>49994.000000</td>\n",
       "    </tr>\n",
       "    <tr>\n",
       "      <th>mean</th>\n",
       "      <td>1.625330e+07</td>\n",
       "      <td>63.602252</td>\n",
       "      <td>6.008341</td>\n",
       "      <td>0.109013</td>\n",
       "      <td>10.178941</td>\n",
       "    </tr>\n",
       "    <tr>\n",
       "      <th>std</th>\n",
       "      <td>7.788365e+06</td>\n",
       "      <td>47.053778</td>\n",
       "      <td>63.118781</td>\n",
       "      <td>0.311659</td>\n",
       "      <td>11.553364</td>\n",
       "    </tr>\n",
       "    <tr>\n",
       "      <th>min</th>\n",
       "      <td>2.930000e+02</td>\n",
       "      <td>0.000000</td>\n",
       "      <td>1.000000</td>\n",
       "      <td>0.000000</td>\n",
       "      <td>0.000000</td>\n",
       "    </tr>\n",
       "    <tr>\n",
       "      <th>25%</th>\n",
       "      <td>9.686208e+06</td>\n",
       "      <td>18.000000</td>\n",
       "      <td>1.000000</td>\n",
       "      <td>0.000000</td>\n",
       "      <td>0.000000</td>\n",
       "    </tr>\n",
       "    <tr>\n",
       "      <th>50%</th>\n",
       "      <td>1.866764e+07</td>\n",
       "      <td>57.000000</td>\n",
       "      <td>2.000000</td>\n",
       "      <td>0.000000</td>\n",
       "      <td>8.000000</td>\n",
       "    </tr>\n",
       "    <tr>\n",
       "      <th>75%</th>\n",
       "      <td>2.322765e+07</td>\n",
       "      <td>111.000000</td>\n",
       "      <td>2.000000</td>\n",
       "      <td>0.000000</td>\n",
       "      <td>18.000000</td>\n",
       "    </tr>\n",
       "    <tr>\n",
       "      <th>max</th>\n",
       "      <td>2.562478e+07</td>\n",
       "      <td>170.000000</td>\n",
       "      <td>1784.000000</td>\n",
       "      <td>1.000000</td>\n",
       "      <td>56.000000</td>\n",
       "    </tr>\n",
       "  </tbody>\n",
       "</table>\n",
       "</div>"
      ],
      "text/plain": [
       "          ACCT_ID_M  CONT_TENURE_MTHS  NUM_CUSTOMER_BILLABLE_ACCOUNTS  \\\n",
       "count  4.999400e+04      49994.000000                    49994.000000   \n",
       "mean   1.625330e+07         63.602252                        6.008341   \n",
       "std    7.788365e+06         47.053778                       63.118781   \n",
       "min    2.930000e+02          0.000000                        1.000000   \n",
       "25%    9.686208e+06         18.000000                        1.000000   \n",
       "50%    1.866764e+07         57.000000                        2.000000   \n",
       "75%    2.322765e+07        111.000000                        2.000000   \n",
       "max    2.562478e+07        170.000000                     1784.000000   \n",
       "\n",
       "       CONSUME_SPORTS_SUBSIDISED  TOTAL_DISCOUNT_PERCENT  \n",
       "count               49994.000000            49994.000000  \n",
       "mean                    0.109013               10.178941  \n",
       "std                     0.311659               11.553364  \n",
       "min                     0.000000                0.000000  \n",
       "25%                     0.000000                0.000000  \n",
       "50%                     0.000000                8.000000  \n",
       "75%                     0.000000               18.000000  \n",
       "max                     1.000000               56.000000  "
      ]
     },
     "execution_count": 5,
     "metadata": {},
     "output_type": "execute_result"
    }
   ],
   "source": [
    "BasicAccInfo.describe()"
   ]
  },
  {
   "cell_type": "code",
   "execution_count": 6,
   "id": "6025114e-9634-4f7c-bb10-17d9474087ce",
   "metadata": {
    "tags": []
   },
   "outputs": [
    {
     "name": "stdout",
     "output_type": "stream",
     "text": [
      "NETFLIX         27304\n",
      "STAN            18010\n",
      "DISNEY           2268\n",
      "AMAZON PRIME     2031\n",
      "PARAMOUNT         381\n",
      "Name: STREAMING_SERVICE, dtype: int64\n",
      "INDIVIDUAL     46886\n",
      "FAMILY ACCT     3108\n",
      "Name: ACCT_TYPE, dtype: int64\n",
      "SPORTS           33203\n",
      "ENTERTAINMENT    16791\n",
      "Name: SERVICE_TYPE, dtype: int64\n"
     ]
    }
   ],
   "source": [
    "cat_cols = ['STREAMING_SERVICE', 'ACCT_TYPE', 'SERVICE_TYPE']\n",
    "for col in cat_cols:\n",
    "    print(BasicAccInfo[col].value_counts())"
   ]
  },
  {
   "cell_type": "code",
   "execution_count": 7,
   "id": "842aa464-056f-4cd9-89c1-1af993df5527",
   "metadata": {},
   "outputs": [
    {
     "data": {
      "text/plain": [
       "ACCT_ID_M                         0\n",
       "STREAMING_SERVICE                 0\n",
       "ACCT_TYPE                         0\n",
       "SERVICE_TYPE                      0\n",
       "CONT_TENURE_MTHS                  0\n",
       "NUM_CUSTOMER_BILLABLE_ACCOUNTS    0\n",
       "CONSUME_SPORTS_SUBSIDISED         0\n",
       "TOTAL_DISCOUNT_PERCENT            0\n",
       "dtype: int64"
      ]
     },
     "execution_count": 7,
     "metadata": {},
     "output_type": "execute_result"
    }
   ],
   "source": [
    "BasicAccInfo.isna().sum()"
   ]
  },
  {
   "cell_type": "code",
   "execution_count": 8,
   "id": "f1f55ac4-22cf-4822-b7a6-14ecfe70c919",
   "metadata": {},
   "outputs": [
    {
     "name": "stdout",
     "output_type": "stream",
     "text": [
      "0\n"
     ]
    }
   ],
   "source": [
    "num_duplicates = len(BasicAccInfo) - len(BasicAccInfo.drop_duplicates())\n",
    "print(num_duplicates)"
   ]
  },
  {
   "cell_type": "code",
   "execution_count": 9,
   "id": "31ff4807-f62c-42eb-9045-d7da58e18ddc",
   "metadata": {},
   "outputs": [
    {
     "data": {
      "text/html": [
       "<div>\n",
       "<style scoped>\n",
       "    .dataframe tbody tr th:only-of-type {\n",
       "        vertical-align: middle;\n",
       "    }\n",
       "\n",
       "    .dataframe tbody tr th {\n",
       "        vertical-align: top;\n",
       "    }\n",
       "\n",
       "    .dataframe thead th {\n",
       "        text-align: right;\n",
       "    }\n",
       "</style>\n",
       "<table border=\"1\" class=\"dataframe\">\n",
       "  <thead>\n",
       "    <tr style=\"text-align: right;\">\n",
       "      <th></th>\n",
       "      <th>ACCT_ID_M</th>\n",
       "      <th>STREAMING_SERVICE</th>\n",
       "      <th>ACCT_TYPE</th>\n",
       "      <th>SERVICE_TYPE</th>\n",
       "      <th>CONT_TENURE_MTHS</th>\n",
       "      <th>NUM_CUSTOMER_BILLABLE_ACCOUNTS</th>\n",
       "      <th>CONSUME_SPORTS_SUBSIDISED</th>\n",
       "      <th>TOTAL_DISCOUNT_PERCENT</th>\n",
       "    </tr>\n",
       "  </thead>\n",
       "  <tbody>\n",
       "    <tr>\n",
       "      <th>0</th>\n",
       "      <td>22929283</td>\n",
       "      <td>NETFLIX</td>\n",
       "      <td>INDIVIDUAL</td>\n",
       "      <td>SPORTS</td>\n",
       "      <td>21</td>\n",
       "      <td>3</td>\n",
       "      <td>0</td>\n",
       "      <td>0</td>\n",
       "    </tr>\n",
       "    <tr>\n",
       "      <th>1</th>\n",
       "      <td>16923669</td>\n",
       "      <td>NETFLIX</td>\n",
       "      <td>INDIVIDUAL</td>\n",
       "      <td>SPORTS</td>\n",
       "      <td>67</td>\n",
       "      <td>1</td>\n",
       "      <td>0</td>\n",
       "      <td>30</td>\n",
       "    </tr>\n",
       "    <tr>\n",
       "      <th>2</th>\n",
       "      <td>25124129</td>\n",
       "      <td>NETFLIX</td>\n",
       "      <td>INDIVIDUAL</td>\n",
       "      <td>ENTERTAINMENT</td>\n",
       "      <td>1</td>\n",
       "      <td>2</td>\n",
       "      <td>0</td>\n",
       "      <td>0</td>\n",
       "    </tr>\n",
       "    <tr>\n",
       "      <th>3</th>\n",
       "      <td>22430133</td>\n",
       "      <td>STAN</td>\n",
       "      <td>INDIVIDUAL</td>\n",
       "      <td>ENTERTAINMENT</td>\n",
       "      <td>25</td>\n",
       "      <td>2</td>\n",
       "      <td>0</td>\n",
       "      <td>13</td>\n",
       "    </tr>\n",
       "    <tr>\n",
       "      <th>4</th>\n",
       "      <td>16775871</td>\n",
       "      <td>NETFLIX</td>\n",
       "      <td>INDIVIDUAL</td>\n",
       "      <td>SPORTS</td>\n",
       "      <td>110</td>\n",
       "      <td>1</td>\n",
       "      <td>0</td>\n",
       "      <td>0</td>\n",
       "    </tr>\n",
       "  </tbody>\n",
       "</table>\n",
       "</div>"
      ],
      "text/plain": [
       "   ACCT_ID_M STREAMING_SERVICE   ACCT_TYPE   SERVICE_TYPE  CONT_TENURE_MTHS  \\\n",
       "0   22929283           NETFLIX  INDIVIDUAL         SPORTS                21   \n",
       "1   16923669           NETFLIX  INDIVIDUAL         SPORTS                67   \n",
       "2   25124129           NETFLIX  INDIVIDUAL  ENTERTAINMENT                 1   \n",
       "3   22430133              STAN  INDIVIDUAL  ENTERTAINMENT                25   \n",
       "4   16775871           NETFLIX  INDIVIDUAL         SPORTS               110   \n",
       "\n",
       "   NUM_CUSTOMER_BILLABLE_ACCOUNTS  CONSUME_SPORTS_SUBSIDISED  \\\n",
       "0                               3                          0   \n",
       "1                               1                          0   \n",
       "2                               2                          0   \n",
       "3                               2                          0   \n",
       "4                               1                          0   \n",
       "\n",
       "   TOTAL_DISCOUNT_PERCENT  \n",
       "0                       0  \n",
       "1                      30  \n",
       "2                       0  \n",
       "3                      13  \n",
       "4                       0  "
      ]
     },
     "execution_count": 9,
     "metadata": {},
     "output_type": "execute_result"
    }
   ],
   "source": [
    "BasicAccInfo.head()"
   ]
  },
  {
   "cell_type": "code",
   "execution_count": 10,
   "id": "37737c99-538e-4852-acaa-4dd60f2da789",
   "metadata": {},
   "outputs": [
    {
     "data": {
      "image/png": "[encoded data removed]",
      "text/plain": [
       "<Figure size 640x480 with 1 Axes>"
      ]
     },
     "metadata": {},
     "output_type": "display_data"
    }
   ],
   "source": [
    "CONT_TENURE_MTHS = BasicAccInfo['CONT_TENURE_MTHS']\n",
    "NUM_CUSTOMER_BILLABLE_ACCOUNTS = BasicAccInfo['NUM_CUSTOMER_BILLABLE_ACCOUNTS']\n",
    "CONSUME_SPORTS_SUBSIDISED = BasicAccInfo['CONSUME_SPORTS_SUBSIDISED']\n",
    "TOTAL_DISCOUNT_PERCENT = BasicAccInfo['TOTAL_DISCOUNT_PERCENT']\n",
    "plt.boxplot([CONT_TENURE_MTHS, NUM_CUSTOMER_BILLABLE_ACCOUNTS, CONSUME_SPORTS_SUBSIDISED, TOTAL_DISCOUNT_PERCENT])\n",
    "plt.xticks([1, 2, 3, 4], ['CONT_TENURE_MTHS', 'NUM_CUSTOMER_BILLABLE_ACCOUNTS', 'CONSUME_SPORTS_SUBSIDISED', 'TOTAL_DISCOUNT_PERCENT'], rotation = 90)\n",
    "plt.ylabel('Number')\n",
    "plt.title('Box plot of BasicAccInfo')\n",
    "plt.show()"
   ]
  },
  {
   "cell_type": "code",
   "execution_count": 11,
   "id": "7d8c8308-8af9-41a4-8238-5a4deaf518ab",
   "metadata": {},
   "outputs": [
    {
     "name": "stdout",
     "output_type": "stream",
     "text": [
      "Number of outliers in column 1: 0\n",
      "Number of outliers in column 2: 2997\n",
      "Number of outliers in column 3: 5450\n",
      "Number of outliers in column 4: 16\n"
     ]
    },
    {
     "data": {
      "image/png": "[encoded data removed]",
      "text/plain": [
       "<Figure size 640x480 with 1 Axes>"
      ]
     },
     "metadata": {},
     "output_type": "display_data"
    }
   ],
   "source": [
    "outliers = [item.get_ydata() for item in plt.boxplot([CONT_TENURE_MTHS, NUM_CUSTOMER_BILLABLE_ACCOUNTS, CONSUME_SPORTS_SUBSIDISED, TOTAL_DISCOUNT_PERCENT])['fliers']]\n",
    "for i, val in enumerate(outliers):\n",
    "    print(f\"Number of outliers in column {i+1}: {len(val)}\")"
   ]
  },
  {
   "cell_type": "code",
   "execution_count": 12,
   "id": "a1584afc-9923-4717-8b03-1c06e6171e81",
   "metadata": {},
   "outputs": [
    {
     "data": {
      "text/plain": [
       "<bound method NDFrame.head of        ACCT_ID_M STREAMING_SERVICE    ACCT_TYPE   SERVICE_TYPE  \\\n",
       "0       22929283           NETFLIX   INDIVIDUAL         SPORTS   \n",
       "1       16923669           NETFLIX   INDIVIDUAL         SPORTS   \n",
       "2       25124129           NETFLIX   INDIVIDUAL  ENTERTAINMENT   \n",
       "3       22430133              STAN   INDIVIDUAL  ENTERTAINMENT   \n",
       "4       16775871           NETFLIX   INDIVIDUAL         SPORTS   \n",
       "...          ...               ...          ...            ...   \n",
       "49995   22512663           NETFLIX   INDIVIDUAL         SPORTS   \n",
       "49996   23489471           NETFLIX   INDIVIDUAL         SPORTS   \n",
       "49997   24829069      AMAZON PRIME  FAMILY ACCT         SPORTS   \n",
       "49998    4314363           NETFLIX   INDIVIDUAL         SPORTS   \n",
       "49999   23468537           NETFLIX   INDIVIDUAL         SPORTS   \n",
       "\n",
       "       CONT_TENURE_MTHS  NUM_CUSTOMER_BILLABLE_ACCOUNTS  \\\n",
       "0                    21                               3   \n",
       "1                    67                               1   \n",
       "2                     1                               2   \n",
       "3                    25                               2   \n",
       "4                   110                               1   \n",
       "...                 ...                             ...   \n",
       "49995                24                               1   \n",
       "49996                16                               1   \n",
       "49997                 7                               4   \n",
       "49998               110                               2   \n",
       "49999                16                               2   \n",
       "\n",
       "       CONSUME_SPORTS_SUBSIDISED  TOTAL_DISCOUNT_PERCENT  \n",
       "0                              0                       0  \n",
       "1                              0                      30  \n",
       "2                              0                       0  \n",
       "3                              0                      13  \n",
       "4                              0                       0  \n",
       "...                          ...                     ...  \n",
       "49995                          0                       0  \n",
       "49996                          1                      25  \n",
       "49997                          0                       3  \n",
       "49998                          0                       0  \n",
       "49999                          0                      24  \n",
       "\n",
       "[49994 rows x 8 columns]>"
      ]
     },
     "execution_count": 12,
     "metadata": {},
     "output_type": "execute_result"
    }
   ],
   "source": [
    "BasicAccInfo.head"
   ]
  },
  {
   "cell_type": "code",
   "execution_count": 13,
   "id": "d7e21b72-09e6-484a-a088-70990dad7091",
   "metadata": {},
   "outputs": [
    {
     "name": "stdout",
     "output_type": "stream",
     "text": [
      "       ACCT_ID_M STREAMING_SERVICE    ACCT_TYPE   SERVICE_TYPE  \\\n",
      "0       22929283           NETFLIX   INDIVIDUAL         SPORTS   \n",
      "1       16923669           NETFLIX   INDIVIDUAL         SPORTS   \n",
      "2       25124129           NETFLIX   INDIVIDUAL  ENTERTAINMENT   \n",
      "3       22430133              STAN   INDIVIDUAL  ENTERTAINMENT   \n",
      "4       16775871           NETFLIX   INDIVIDUAL         SPORTS   \n",
      "...          ...               ...          ...            ...   \n",
      "49995   22512663           NETFLIX   INDIVIDUAL         SPORTS   \n",
      "49996   23489471           NETFLIX   INDIVIDUAL         SPORTS   \n",
      "49997   24829069      AMAZON PRIME  FAMILY ACCT         SPORTS   \n",
      "49998    4314363           NETFLIX   INDIVIDUAL         SPORTS   \n",
      "49999   23468537           NETFLIX   INDIVIDUAL         SPORTS   \n",
      "\n",
      "       CONT_TENURE_MTHS  NUM_CUSTOMER_BILLABLE_ACCOUNTS  \\\n",
      "0                    21                               3   \n",
      "1                    67                               1   \n",
      "2                     1                               2   \n",
      "3                    25                               2   \n",
      "4                   110                               1   \n",
      "...                 ...                             ...   \n",
      "49995                24                               1   \n",
      "49996                16                               1   \n",
      "49997                 7                               4   \n",
      "49998               110                               2   \n",
      "49999                16                               2   \n",
      "\n",
      "       CONSUME_SPORTS_SUBSIDISED  TOTAL_DISCOUNT_PERCENT  \n",
      "0                              0                       0  \n",
      "1                              0                      30  \n",
      "2                              0                       0  \n",
      "3                              0                      13  \n",
      "4                              0                       0  \n",
      "...                          ...                     ...  \n",
      "49995                          0                       0  \n",
      "49996                          1                      25  \n",
      "49997                          0                       3  \n",
      "49998                          0                       0  \n",
      "49999                          0                      24  \n",
      "\n",
      "[49994 rows x 8 columns]\n"
     ]
    }
   ],
   "source": [
    "print(BasicAccInfo)"
   ]
  },
  {
   "cell_type": "code",
   "execution_count": 14,
   "id": "a0bf5cda-4fa6-4235-aac2-577067116d00",
   "metadata": {},
   "outputs": [
    {
     "data": {
      "text/html": [
       "<div>\n",
       "<style scoped>\n",
       "    .dataframe tbody tr th:only-of-type {\n",
       "        vertical-align: middle;\n",
       "    }\n",
       "\n",
       "    .dataframe tbody tr th {\n",
       "        vertical-align: top;\n",
       "    }\n",
       "\n",
       "    .dataframe thead th {\n",
       "        text-align: right;\n",
       "    }\n",
       "</style>\n",
       "<table border=\"1\" class=\"dataframe\">\n",
       "  <thead>\n",
       "    <tr style=\"text-align: right;\">\n",
       "      <th></th>\n",
       "      <th>Unnamed: 0</th>\n",
       "      <th>ACCT_ID_M</th>\n",
       "      <th>CHURN_DATE</th>\n",
       "      <th>CHURNED</th>\n",
       "      <th>CHURNED_30</th>\n",
       "      <th>CHURNED_90</th>\n",
       "    </tr>\n",
       "  </thead>\n",
       "  <tbody>\n",
       "    <tr>\n",
       "      <th>0</th>\n",
       "      <td>1085553</td>\n",
       "      <td>22929283</td>\n",
       "      <td>NaN</td>\n",
       "      <td>0</td>\n",
       "      <td>0</td>\n",
       "      <td>0</td>\n",
       "    </tr>\n",
       "    <tr>\n",
       "      <th>1</th>\n",
       "      <td>199699</td>\n",
       "      <td>16923669</td>\n",
       "      <td>NaN</td>\n",
       "      <td>0</td>\n",
       "      <td>0</td>\n",
       "      <td>0</td>\n",
       "    </tr>\n",
       "    <tr>\n",
       "      <th>2</th>\n",
       "      <td>533407</td>\n",
       "      <td>25124129</td>\n",
       "      <td>NaN</td>\n",
       "      <td>0</td>\n",
       "      <td>0</td>\n",
       "      <td>0</td>\n",
       "    </tr>\n",
       "    <tr>\n",
       "      <th>3</th>\n",
       "      <td>334221</td>\n",
       "      <td>22430133</td>\n",
       "      <td>NaN</td>\n",
       "      <td>0</td>\n",
       "      <td>0</td>\n",
       "      <td>0</td>\n",
       "    </tr>\n",
       "    <tr>\n",
       "      <th>4</th>\n",
       "      <td>1529002</td>\n",
       "      <td>16775871</td>\n",
       "      <td>NaN</td>\n",
       "      <td>0</td>\n",
       "      <td>0</td>\n",
       "      <td>0</td>\n",
       "    </tr>\n",
       "  </tbody>\n",
       "</table>\n",
       "</div>"
      ],
      "text/plain": [
       "   Unnamed: 0  ACCT_ID_M CHURN_DATE  CHURNED  CHURNED_30  CHURNED_90\n",
       "0     1085553   22929283        NaN        0           0           0\n",
       "1      199699   16923669        NaN        0           0           0\n",
       "2      533407   25124129        NaN        0           0           0\n",
       "3      334221   22430133        NaN        0           0           0\n",
       "4     1529002   16775871        NaN        0           0           0"
      ]
     },
     "execution_count": 14,
     "metadata": {},
     "output_type": "execute_result"
    }
   ],
   "source": [
    "df=pd.read_csv('churninfo.csv')\n",
    "ChurnInfo = df=pd.read_csv('churninfo.csv')\n",
    "ChurnInfo.head()"
   ]
  },
  {
   "cell_type": "code",
   "execution_count": 15,
   "id": "0cb7ff70-06a6-4d16-a544-291714faf55b",
   "metadata": {},
   "outputs": [],
   "source": [
    "ChurnInfo = ChurnInfo.drop('Unnamed: 0', axis=1)\n",
    "ChurnInfo = ChurnInfo.drop('CHURN_DATE', axis=1)"
   ]
  },
  {
   "cell_type": "code",
   "execution_count": 16,
   "id": "a3825315-fae8-4566-894a-b2c565220c0b",
   "metadata": {},
   "outputs": [
    {
     "name": "stdout",
     "output_type": "stream",
     "text": [
      "(48000, 4)\n"
     ]
    }
   ],
   "source": [
    "print(ChurnInfo.shape)"
   ]
  },
  {
   "cell_type": "code",
   "execution_count": 17,
   "id": "0b54990f-e0e4-4725-b8a5-0071cb8d5b4c",
   "metadata": {},
   "outputs": [
    {
     "data": {
      "text/html": [
       "<div>\n",
       "<style scoped>\n",
       "    .dataframe tbody tr th:only-of-type {\n",
       "        vertical-align: middle;\n",
       "    }\n",
       "\n",
       "    .dataframe tbody tr th {\n",
       "        vertical-align: top;\n",
       "    }\n",
       "\n",
       "    .dataframe thead th {\n",
       "        text-align: right;\n",
       "    }\n",
       "</style>\n",
       "<table border=\"1\" class=\"dataframe\">\n",
       "  <thead>\n",
       "    <tr style=\"text-align: right;\">\n",
       "      <th></th>\n",
       "      <th>ACCT_ID_M</th>\n",
       "      <th>CHURNED</th>\n",
       "      <th>CHURNED_30</th>\n",
       "      <th>CHURNED_90</th>\n",
       "    </tr>\n",
       "  </thead>\n",
       "  <tbody>\n",
       "    <tr>\n",
       "      <th>count</th>\n",
       "      <td>4.800000e+04</td>\n",
       "      <td>48000.000000</td>\n",
       "      <td>48000.000000</td>\n",
       "      <td>48000.000000</td>\n",
       "    </tr>\n",
       "    <tr>\n",
       "      <th>mean</th>\n",
       "      <td>1.625938e+07</td>\n",
       "      <td>0.008229</td>\n",
       "      <td>0.000375</td>\n",
       "      <td>0.008229</td>\n",
       "    </tr>\n",
       "    <tr>\n",
       "      <th>std</th>\n",
       "      <td>7.788903e+06</td>\n",
       "      <td>0.090342</td>\n",
       "      <td>0.019361</td>\n",
       "      <td>0.090342</td>\n",
       "    </tr>\n",
       "    <tr>\n",
       "      <th>min</th>\n",
       "      <td>2.930000e+02</td>\n",
       "      <td>0.000000</td>\n",
       "      <td>0.000000</td>\n",
       "      <td>0.000000</td>\n",
       "    </tr>\n",
       "    <tr>\n",
       "      <th>25%</th>\n",
       "      <td>9.685114e+06</td>\n",
       "      <td>0.000000</td>\n",
       "      <td>0.000000</td>\n",
       "      <td>0.000000</td>\n",
       "    </tr>\n",
       "    <tr>\n",
       "      <th>50%</th>\n",
       "      <td>1.867918e+07</td>\n",
       "      <td>0.000000</td>\n",
       "      <td>0.000000</td>\n",
       "      <td>0.000000</td>\n",
       "    </tr>\n",
       "    <tr>\n",
       "      <th>75%</th>\n",
       "      <td>2.322796e+07</td>\n",
       "      <td>0.000000</td>\n",
       "      <td>0.000000</td>\n",
       "      <td>0.000000</td>\n",
       "    </tr>\n",
       "    <tr>\n",
       "      <th>max</th>\n",
       "      <td>2.562478e+07</td>\n",
       "      <td>1.000000</td>\n",
       "      <td>1.000000</td>\n",
       "      <td>1.000000</td>\n",
       "    </tr>\n",
       "  </tbody>\n",
       "</table>\n",
       "</div>"
      ],
      "text/plain": [
       "          ACCT_ID_M       CHURNED    CHURNED_30    CHURNED_90\n",
       "count  4.800000e+04  48000.000000  48000.000000  48000.000000\n",
       "mean   1.625938e+07      0.008229      0.000375      0.008229\n",
       "std    7.788903e+06      0.090342      0.019361      0.090342\n",
       "min    2.930000e+02      0.000000      0.000000      0.000000\n",
       "25%    9.685114e+06      0.000000      0.000000      0.000000\n",
       "50%    1.867918e+07      0.000000      0.000000      0.000000\n",
       "75%    2.322796e+07      0.000000      0.000000      0.000000\n",
       "max    2.562478e+07      1.000000      1.000000      1.000000"
      ]
     },
     "execution_count": 17,
     "metadata": {},
     "output_type": "execute_result"
    }
   ],
   "source": [
    "ChurnInfo.describe()"
   ]
  },
  {
   "cell_type": "code",
   "execution_count": 18,
   "id": "7ef19edf-782f-48f2-ad2c-2d73356637df",
   "metadata": {},
   "outputs": [
    {
     "data": {
      "text/plain": [
       "ACCT_ID_M     0\n",
       "CHURNED       0\n",
       "CHURNED_30    0\n",
       "CHURNED_90    0\n",
       "dtype: int64"
      ]
     },
     "execution_count": 18,
     "metadata": {},
     "output_type": "execute_result"
    }
   ],
   "source": [
    "ChurnInfo.isna().sum()"
   ]
  },
  {
   "cell_type": "code",
   "execution_count": 19,
   "id": "30650ae0-816c-4380-9f16-89a577378920",
   "metadata": {},
   "outputs": [
    {
     "name": "stdout",
     "output_type": "stream",
     "text": [
      "0\n"
     ]
    }
   ],
   "source": [
    "num_duplicates = len(ChurnInfo) - len(ChurnInfo.drop_duplicates())\n",
    "print(num_duplicates)"
   ]
  },
  {
   "cell_type": "code",
   "execution_count": 20,
   "id": "5b4b9adb-7c41-4a3f-b133-713ac4d9d0ef",
   "metadata": {},
   "outputs": [
    {
     "data": {
      "text/html": [
       "<div>\n",
       "<style scoped>\n",
       "    .dataframe tbody tr th:only-of-type {\n",
       "        vertical-align: middle;\n",
       "    }\n",
       "\n",
       "    .dataframe tbody tr th {\n",
       "        vertical-align: top;\n",
       "    }\n",
       "\n",
       "    .dataframe thead th {\n",
       "        text-align: right;\n",
       "    }\n",
       "</style>\n",
       "<table border=\"1\" class=\"dataframe\">\n",
       "  <thead>\n",
       "    <tr style=\"text-align: right;\">\n",
       "      <th></th>\n",
       "      <th>ACCT_ID_M</th>\n",
       "      <th>CHURNED</th>\n",
       "      <th>CHURNED_30</th>\n",
       "      <th>CHURNED_90</th>\n",
       "    </tr>\n",
       "  </thead>\n",
       "  <tbody>\n",
       "    <tr>\n",
       "      <th>0</th>\n",
       "      <td>22929283</td>\n",
       "      <td>0</td>\n",
       "      <td>0</td>\n",
       "      <td>0</td>\n",
       "    </tr>\n",
       "    <tr>\n",
       "      <th>1</th>\n",
       "      <td>16923669</td>\n",
       "      <td>0</td>\n",
       "      <td>0</td>\n",
       "      <td>0</td>\n",
       "    </tr>\n",
       "    <tr>\n",
       "      <th>2</th>\n",
       "      <td>25124129</td>\n",
       "      <td>0</td>\n",
       "      <td>0</td>\n",
       "      <td>0</td>\n",
       "    </tr>\n",
       "    <tr>\n",
       "      <th>3</th>\n",
       "      <td>22430133</td>\n",
       "      <td>0</td>\n",
       "      <td>0</td>\n",
       "      <td>0</td>\n",
       "    </tr>\n",
       "    <tr>\n",
       "      <th>4</th>\n",
       "      <td>16775871</td>\n",
       "      <td>0</td>\n",
       "      <td>0</td>\n",
       "      <td>0</td>\n",
       "    </tr>\n",
       "  </tbody>\n",
       "</table>\n",
       "</div>"
      ],
      "text/plain": [
       "   ACCT_ID_M  CHURNED  CHURNED_30  CHURNED_90\n",
       "0   22929283        0           0           0\n",
       "1   16923669        0           0           0\n",
       "2   25124129        0           0           0\n",
       "3   22430133        0           0           0\n",
       "4   16775871        0           0           0"
      ]
     },
     "execution_count": 20,
     "metadata": {},
     "output_type": "execute_result"
    }
   ],
   "source": [
    "ChurnInfo.head()"
   ]
  },
  {
   "cell_type": "code",
   "execution_count": 21,
   "id": "7cb32d93-684c-4fdd-bf9d-43b451ce6bd7",
   "metadata": {},
   "outputs": [
    {
     "data": {
      "image/png": "[encoded data removed]",
      "text/plain": [
       "<Figure size 640x480 with 1 Axes>"
      ]
     },
     "metadata": {},
     "output_type": "display_data"
    }
   ],
   "source": [
    "CHURNED = ChurnInfo['CHURNED']\n",
    "CHURNED_30 = ChurnInfo['CHURNED_30']\n",
    "CHURNED_90 = ChurnInfo['CHURNED_90']\n",
    "plt.boxplot([CHURNED, CHURNED_30, CHURNED_90])\n",
    "plt.xticks([1, 2, 3], ['CHURNED', 'CHURNED_30', 'CHURNED_90'], rotation = 90)\n",
    "plt.ylabel('Number')\n",
    "plt.title('Box plot of ChurnInfo')\n",
    "plt.show()"
   ]
  },
  {
   "cell_type": "code",
   "execution_count": 22,
   "id": "f2aa9781-9fc4-4b17-ac1d-82717ed1c478",
   "metadata": {
    "tags": []
   },
   "outputs": [
    {
     "data": {
      "text/html": [
       "<div>\n",
       "<style scoped>\n",
       "    .dataframe tbody tr th:only-of-type {\n",
       "        vertical-align: middle;\n",
       "    }\n",
       "\n",
       "    .dataframe tbody tr th {\n",
       "        vertical-align: top;\n",
       "    }\n",
       "\n",
       "    .dataframe thead th {\n",
       "        text-align: right;\n",
       "    }\n",
       "</style>\n",
       "<table border=\"1\" class=\"dataframe\">\n",
       "  <thead>\n",
       "    <tr style=\"text-align: right;\">\n",
       "      <th></th>\n",
       "      <th>Unnamed: 0</th>\n",
       "      <th>ACCT_ID_M</th>\n",
       "      <th>DAYS_LAST_LOGIN</th>\n",
       "      <th>NUM_LOGINS_6M</th>\n",
       "      <th>NUM_WKDAY_LOGIN_6M</th>\n",
       "      <th>NUM_WKEND_LOGIN_6M</th>\n",
       "      <th>Measures.Call_Duration_mean</th>\n",
       "      <th>Measures.Call_Duration_min</th>\n",
       "      <th>Measures.Call_Duration_max</th>\n",
       "      <th>DEPT_Retention Inbound</th>\n",
       "      <th>DEPT_Retention Outbound</th>\n",
       "      <th>MAX_RING_DURATION_6M</th>\n",
       "      <th>MAX_TALK_DURATION_3M</th>\n",
       "      <th>NUM_INTERACTION_3M</th>\n",
       "      <th>EMAIL_T1_ISP_FLG</th>\n",
       "      <th>EMAIL_T2_ISP_FLG</th>\n",
       "      <th>EMAIL_WEBMAIL_FLG</th>\n",
       "    </tr>\n",
       "  </thead>\n",
       "  <tbody>\n",
       "    <tr>\n",
       "      <th>0</th>\n",
       "      <td>199699</td>\n",
       "      <td>16923669</td>\n",
       "      <td>1749.0</td>\n",
       "      <td>0</td>\n",
       "      <td>0</td>\n",
       "      <td>0</td>\n",
       "      <td>NaN</td>\n",
       "      <td>NaN</td>\n",
       "      <td>NaN</td>\n",
       "      <td>NaN</td>\n",
       "      <td>NaN</td>\n",
       "      <td>NaN</td>\n",
       "      <td>NaN</td>\n",
       "      <td>0</td>\n",
       "      <td>0</td>\n",
       "      <td>0</td>\n",
       "      <td>1</td>\n",
       "    </tr>\n",
       "    <tr>\n",
       "      <th>1</th>\n",
       "      <td>533407</td>\n",
       "      <td>25124129</td>\n",
       "      <td>2.0</td>\n",
       "      <td>4</td>\n",
       "      <td>4</td>\n",
       "      <td>0</td>\n",
       "      <td>NaN</td>\n",
       "      <td>NaN</td>\n",
       "      <td>NaN</td>\n",
       "      <td>NaN</td>\n",
       "      <td>NaN</td>\n",
       "      <td>4.0</td>\n",
       "      <td>2409.0</td>\n",
       "      <td>2</td>\n",
       "      <td>0</td>\n",
       "      <td>0</td>\n",
       "      <td>1</td>\n",
       "    </tr>\n",
       "    <tr>\n",
       "      <th>2</th>\n",
       "      <td>334221</td>\n",
       "      <td>22430133</td>\n",
       "      <td>15.0</td>\n",
       "      <td>3</td>\n",
       "      <td>3</td>\n",
       "      <td>0</td>\n",
       "      <td>NaN</td>\n",
       "      <td>NaN</td>\n",
       "      <td>NaN</td>\n",
       "      <td>NaN</td>\n",
       "      <td>NaN</td>\n",
       "      <td>NaN</td>\n",
       "      <td>NaN</td>\n",
       "      <td>4</td>\n",
       "      <td>0</td>\n",
       "      <td>0</td>\n",
       "      <td>1</td>\n",
       "    </tr>\n",
       "    <tr>\n",
       "      <th>3</th>\n",
       "      <td>1942451</td>\n",
       "      <td>19428623</td>\n",
       "      <td>98.0</td>\n",
       "      <td>2</td>\n",
       "      <td>2</td>\n",
       "      <td>0</td>\n",
       "      <td>NaN</td>\n",
       "      <td>NaN</td>\n",
       "      <td>NaN</td>\n",
       "      <td>NaN</td>\n",
       "      <td>NaN</td>\n",
       "      <td>NaN</td>\n",
       "      <td>NaN</td>\n",
       "      <td>0</td>\n",
       "      <td>0</td>\n",
       "      <td>0</td>\n",
       "      <td>1</td>\n",
       "    </tr>\n",
       "    <tr>\n",
       "      <th>4</th>\n",
       "      <td>2271418</td>\n",
       "      <td>22043987</td>\n",
       "      <td>841.0</td>\n",
       "      <td>0</td>\n",
       "      <td>0</td>\n",
       "      <td>0</td>\n",
       "      <td>NaN</td>\n",
       "      <td>NaN</td>\n",
       "      <td>NaN</td>\n",
       "      <td>NaN</td>\n",
       "      <td>NaN</td>\n",
       "      <td>NaN</td>\n",
       "      <td>NaN</td>\n",
       "      <td>1</td>\n",
       "      <td>0</td>\n",
       "      <td>1</td>\n",
       "      <td>0</td>\n",
       "    </tr>\n",
       "  </tbody>\n",
       "</table>\n",
       "</div>"
      ],
      "text/plain": [
       "   Unnamed: 0  ACCT_ID_M  DAYS_LAST_LOGIN  NUM_LOGINS_6M  NUM_WKDAY_LOGIN_6M  \\\n",
       "0      199699   16923669           1749.0              0                   0   \n",
       "1      533407   25124129              2.0              4                   4   \n",
       "2      334221   22430133             15.0              3                   3   \n",
       "3     1942451   19428623             98.0              2                   2   \n",
       "4     2271418   22043987            841.0              0                   0   \n",
       "\n",
       "   NUM_WKEND_LOGIN_6M  Measures.Call_Duration_mean  \\\n",
       "0                   0                          NaN   \n",
       "1                   0                          NaN   \n",
       "2                   0                          NaN   \n",
       "3                   0                          NaN   \n",
       "4                   0                          NaN   \n",
       "\n",
       "   Measures.Call_Duration_min  Measures.Call_Duration_max  \\\n",
       "0                         NaN                         NaN   \n",
       "1                         NaN                         NaN   \n",
       "2                         NaN                         NaN   \n",
       "3                         NaN                         NaN   \n",
       "4                         NaN                         NaN   \n",
       "\n",
       "   DEPT_Retention Inbound  DEPT_Retention Outbound  MAX_RING_DURATION_6M  \\\n",
       "0                     NaN                      NaN                   NaN   \n",
       "1                     NaN                      NaN                   4.0   \n",
       "2                     NaN                      NaN                   NaN   \n",
       "3                     NaN                      NaN                   NaN   \n",
       "4                     NaN                      NaN                   NaN   \n",
       "\n",
       "   MAX_TALK_DURATION_3M  NUM_INTERACTION_3M  EMAIL_T1_ISP_FLG  \\\n",
       "0                   NaN                   0                 0   \n",
       "1                2409.0                   2                 0   \n",
       "2                   NaN                   4                 0   \n",
       "3                   NaN                   0                 0   \n",
       "4                   NaN                   1                 0   \n",
       "\n",
       "   EMAIL_T2_ISP_FLG  EMAIL_WEBMAIL_FLG  \n",
       "0                 0                  1  \n",
       "1                 0                  1  \n",
       "2                 0                  1  \n",
       "3                 0                  1  \n",
       "4                 1                  0  "
      ]
     },
     "execution_count": 22,
     "metadata": {},
     "output_type": "execute_result"
    }
   ],
   "source": [
    "InteractionInfo = df=pd.read_csv('interactioninfo.csv')\n",
    "df=pd.read_csv('interactioninfo.csv')\n",
    "InteractionInfo.head()"
   ]
  },
  {
   "cell_type": "code",
   "execution_count": 23,
   "id": "ad1d30a5-897b-4e98-9297-882c8c0ba1d5",
   "metadata": {
    "scrolled": true
   },
   "outputs": [
    {
     "data": {
      "text/html": [
       "<div>\n",
       "<style scoped>\n",
       "    .dataframe tbody tr th:only-of-type {\n",
       "        vertical-align: middle;\n",
       "    }\n",
       "\n",
       "    .dataframe tbody tr th {\n",
       "        vertical-align: top;\n",
       "    }\n",
       "\n",
       "    .dataframe thead th {\n",
       "        text-align: right;\n",
       "    }\n",
       "</style>\n",
       "<table border=\"1\" class=\"dataframe\">\n",
       "  <thead>\n",
       "    <tr style=\"text-align: right;\">\n",
       "      <th></th>\n",
       "      <th>ACCT_ID_M</th>\n",
       "      <th>DEPT_Retention Inbound</th>\n",
       "      <th>DEPT_Retention Outbound</th>\n",
       "    </tr>\n",
       "  </thead>\n",
       "  <tbody>\n",
       "    <tr>\n",
       "      <th>0</th>\n",
       "      <td>16923669</td>\n",
       "      <td>NaN</td>\n",
       "      <td>NaN</td>\n",
       "    </tr>\n",
       "    <tr>\n",
       "      <th>1</th>\n",
       "      <td>25124129</td>\n",
       "      <td>NaN</td>\n",
       "      <td>NaN</td>\n",
       "    </tr>\n",
       "    <tr>\n",
       "      <th>2</th>\n",
       "      <td>22430133</td>\n",
       "      <td>NaN</td>\n",
       "      <td>NaN</td>\n",
       "    </tr>\n",
       "    <tr>\n",
       "      <th>3</th>\n",
       "      <td>19428623</td>\n",
       "      <td>NaN</td>\n",
       "      <td>NaN</td>\n",
       "    </tr>\n",
       "    <tr>\n",
       "      <th>4</th>\n",
       "      <td>22043987</td>\n",
       "      <td>NaN</td>\n",
       "      <td>NaN</td>\n",
       "    </tr>\n",
       "  </tbody>\n",
       "</table>\n",
       "</div>"
      ],
      "text/plain": [
       "   ACCT_ID_M  DEPT_Retention Inbound  DEPT_Retention Outbound\n",
       "0   16923669                     NaN                      NaN\n",
       "1   25124129                     NaN                      NaN\n",
       "2   22430133                     NaN                      NaN\n",
       "3   19428623                     NaN                      NaN\n",
       "4   22043987                     NaN                      NaN"
      ]
     },
     "execution_count": 23,
     "metadata": {},
     "output_type": "execute_result"
    }
   ],
   "source": [
    "InteractionInfo = InteractionInfo.drop(['Unnamed: 0', 'EMAIL_T1_ISP_FLG', 'EMAIL_T2_ISP_FLG', 'EMAIL_WEBMAIL_FLG', 'Measures.Call_Duration_mean', 'Measures.Call_Duration_min', 'Measures.Call_Duration_max', 'NUM_WKDAY_LOGIN_6M', 'NUM_WKEND_LOGIN_6M', 'DAYS_LAST_LOGIN', 'NUM_INTERACTION_3M', 'MAX_RING_DURATION_6M', 'MAX_TALK_DURATION_3M', 'NUM_LOGINS_6M'], axis=1)\n",
    "InteractionInfo.head()"
   ]
  },
  {
   "cell_type": "code",
   "execution_count": 24,
   "id": "b9d39de4",
   "metadata": {},
   "outputs": [
    {
     "data": {
      "text/html": [
       "<div>\n",
       "<style scoped>\n",
       "    .dataframe tbody tr th:only-of-type {\n",
       "        vertical-align: middle;\n",
       "    }\n",
       "\n",
       "    .dataframe tbody tr th {\n",
       "        vertical-align: top;\n",
       "    }\n",
       "\n",
       "    .dataframe thead th {\n",
       "        text-align: right;\n",
       "    }\n",
       "</style>\n",
       "<table border=\"1\" class=\"dataframe\">\n",
       "  <thead>\n",
       "    <tr style=\"text-align: right;\">\n",
       "      <th></th>\n",
       "      <th>ACCT_ID_M</th>\n",
       "      <th>DEPT_Retention_Inbound</th>\n",
       "      <th>DEPT_Retention_Outbound</th>\n",
       "    </tr>\n",
       "  </thead>\n",
       "  <tbody>\n",
       "    <tr>\n",
       "      <th>0</th>\n",
       "      <td>16923669</td>\n",
       "      <td>NaN</td>\n",
       "      <td>NaN</td>\n",
       "    </tr>\n",
       "    <tr>\n",
       "      <th>1</th>\n",
       "      <td>25124129</td>\n",
       "      <td>NaN</td>\n",
       "      <td>NaN</td>\n",
       "    </tr>\n",
       "    <tr>\n",
       "      <th>2</th>\n",
       "      <td>22430133</td>\n",
       "      <td>NaN</td>\n",
       "      <td>NaN</td>\n",
       "    </tr>\n",
       "    <tr>\n",
       "      <th>3</th>\n",
       "      <td>19428623</td>\n",
       "      <td>NaN</td>\n",
       "      <td>NaN</td>\n",
       "    </tr>\n",
       "    <tr>\n",
       "      <th>4</th>\n",
       "      <td>22043987</td>\n",
       "      <td>NaN</td>\n",
       "      <td>NaN</td>\n",
       "    </tr>\n",
       "  </tbody>\n",
       "</table>\n",
       "</div>"
      ],
      "text/plain": [
       "   ACCT_ID_M  DEPT_Retention_Inbound  DEPT_Retention_Outbound\n",
       "0   16923669                     NaN                      NaN\n",
       "1   25124129                     NaN                      NaN\n",
       "2   22430133                     NaN                      NaN\n",
       "3   19428623                     NaN                      NaN\n",
       "4   22043987                     NaN                      NaN"
      ]
     },
     "execution_count": 24,
     "metadata": {},
     "output_type": "execute_result"
    }
   ],
   "source": [
    "InteractionInfo = InteractionInfo.rename(columns={'DEPT_Retention Inbound': 'DEPT_Retention_Inbound', \n",
    "                        'DEPT_Retention Outbound': 'DEPT_Retention_Outbound'})\n",
    "InteractionInfo.head()"
   ]
  },
  {
   "cell_type": "code",
   "execution_count": 25,
   "id": "530d9cf5-a4ef-4461-b3bc-6cb4ed4472b0",
   "metadata": {},
   "outputs": [
    {
     "name": "stdout",
     "output_type": "stream",
     "text": [
      "(45000, 3)\n"
     ]
    }
   ],
   "source": [
    "print(InteractionInfo.shape)"
   ]
  },
  {
   "cell_type": "code",
   "execution_count": 26,
   "id": "d9147cf3-b855-45bd-8a6f-ab0abf0d2503",
   "metadata": {
    "tags": []
   },
   "outputs": [
    {
     "name": "stdout",
     "output_type": "stream",
     "text": [
      "ACCT_ID_M                    int64\n",
      "DEPT_Retention_Inbound     float64\n",
      "DEPT_Retention_Outbound    float64\n",
      "dtype: object\n"
     ]
    }
   ],
   "source": [
    "print(InteractionInfo.dtypes)"
   ]
  },
  {
   "cell_type": "code",
   "execution_count": 27,
   "id": "c6db8689-24a8-4c36-97e4-4ceecbe9695c",
   "metadata": {},
   "outputs": [
    {
     "data": {
      "text/html": [
       "<div>\n",
       "<style scoped>\n",
       "    .dataframe tbody tr th:only-of-type {\n",
       "        vertical-align: middle;\n",
       "    }\n",
       "\n",
       "    .dataframe tbody tr th {\n",
       "        vertical-align: top;\n",
       "    }\n",
       "\n",
       "    .dataframe thead th {\n",
       "        text-align: right;\n",
       "    }\n",
       "</style>\n",
       "<table border=\"1\" class=\"dataframe\">\n",
       "  <thead>\n",
       "    <tr style=\"text-align: right;\">\n",
       "      <th></th>\n",
       "      <th>ACCT_ID_M</th>\n",
       "      <th>DEPT_Retention_Inbound</th>\n",
       "      <th>DEPT_Retention_Outbound</th>\n",
       "    </tr>\n",
       "  </thead>\n",
       "  <tbody>\n",
       "    <tr>\n",
       "      <th>count</th>\n",
       "      <td>4.500000e+04</td>\n",
       "      <td>8504.000000</td>\n",
       "      <td>8504.000000</td>\n",
       "    </tr>\n",
       "    <tr>\n",
       "      <th>mean</th>\n",
       "      <td>1.626581e+07</td>\n",
       "      <td>0.018932</td>\n",
       "      <td>0.145108</td>\n",
       "    </tr>\n",
       "    <tr>\n",
       "      <th>std</th>\n",
       "      <td>7.786142e+06</td>\n",
       "      <td>0.214151</td>\n",
       "      <td>0.458169</td>\n",
       "    </tr>\n",
       "    <tr>\n",
       "      <th>min</th>\n",
       "      <td>2.930000e+02</td>\n",
       "      <td>0.000000</td>\n",
       "      <td>0.000000</td>\n",
       "    </tr>\n",
       "    <tr>\n",
       "      <th>25%</th>\n",
       "      <td>9.709866e+06</td>\n",
       "      <td>0.000000</td>\n",
       "      <td>0.000000</td>\n",
       "    </tr>\n",
       "    <tr>\n",
       "      <th>50%</th>\n",
       "      <td>1.867774e+07</td>\n",
       "      <td>0.000000</td>\n",
       "      <td>0.000000</td>\n",
       "    </tr>\n",
       "    <tr>\n",
       "      <th>75%</th>\n",
       "      <td>2.323138e+07</td>\n",
       "      <td>0.000000</td>\n",
       "      <td>0.000000</td>\n",
       "    </tr>\n",
       "    <tr>\n",
       "      <th>max</th>\n",
       "      <td>2.562478e+07</td>\n",
       "      <td>11.000000</td>\n",
       "      <td>10.000000</td>\n",
       "    </tr>\n",
       "  </tbody>\n",
       "</table>\n",
       "</div>"
      ],
      "text/plain": [
       "          ACCT_ID_M  DEPT_Retention_Inbound  DEPT_Retention_Outbound\n",
       "count  4.500000e+04             8504.000000              8504.000000\n",
       "mean   1.626581e+07                0.018932                 0.145108\n",
       "std    7.786142e+06                0.214151                 0.458169\n",
       "min    2.930000e+02                0.000000                 0.000000\n",
       "25%    9.709866e+06                0.000000                 0.000000\n",
       "50%    1.867774e+07                0.000000                 0.000000\n",
       "75%    2.323138e+07                0.000000                 0.000000\n",
       "max    2.562478e+07               11.000000                10.000000"
      ]
     },
     "execution_count": 27,
     "metadata": {},
     "output_type": "execute_result"
    }
   ],
   "source": [
    "InteractionInfo.describe()"
   ]
  },
  {
   "cell_type": "code",
   "execution_count": 28,
   "id": "53f48cbd-8162-4e47-a494-1f2319c0baee",
   "metadata": {},
   "outputs": [
    {
     "data": {
      "text/plain": [
       "ACCT_ID_M                      0\n",
       "DEPT_Retention_Inbound     36496\n",
       "DEPT_Retention_Outbound    36496\n",
       "dtype: int64"
      ]
     },
     "execution_count": 28,
     "metadata": {},
     "output_type": "execute_result"
    }
   ],
   "source": [
    "InteractionInfo.isna().sum()"
   ]
  },
  {
   "cell_type": "code",
   "execution_count": 29,
   "id": "b380745f-41ea-4049-aacc-6f66229f2d3f",
   "metadata": {},
   "outputs": [
    {
     "name": "stdout",
     "output_type": "stream",
     "text": [
      "0\n"
     ]
    }
   ],
   "source": [
    "num_duplicates = len(InteractionInfo) - len(InteractionInfo.drop_duplicates())\n",
    "print(num_duplicates)"
   ]
  },
  {
   "cell_type": "code",
   "execution_count": 30,
   "id": "0255e2cc-4c94-4f25-b721-9f86fb88d762",
   "metadata": {},
   "outputs": [
    {
     "name": "stdout",
     "output_type": "stream",
     "text": [
      "0.0     8395\n",
      "1.0       79\n",
      "2.0       19\n",
      "3.0        9\n",
      "6.0        1\n",
      "11.0       1\n",
      "Name: DEPT_Retention_Inbound, dtype: int64\n"
     ]
    }
   ],
   "source": [
    "print(InteractionInfo['DEPT_Retention_Inbound'].value_counts())"
   ]
  },
  {
   "cell_type": "code",
   "execution_count": 31,
   "id": "45946f53-97af-4d2e-8f17-cc70193ed22f",
   "metadata": {
    "tags": []
   },
   "outputs": [],
   "source": [
    "InteractionInfo.dropna(subset=['DEPT_Retention_Inbound'], inplace=True)"
   ]
  },
  {
   "cell_type": "code",
   "execution_count": 32,
   "id": "9fa6418b-968d-4b11-b049-88aa4c697422",
   "metadata": {},
   "outputs": [
    {
     "data": {
      "text/html": [
       "<div>\n",
       "<style scoped>\n",
       "    .dataframe tbody tr th:only-of-type {\n",
       "        vertical-align: middle;\n",
       "    }\n",
       "\n",
       "    .dataframe tbody tr th {\n",
       "        vertical-align: top;\n",
       "    }\n",
       "\n",
       "    .dataframe thead th {\n",
       "        text-align: right;\n",
       "    }\n",
       "</style>\n",
       "<table border=\"1\" class=\"dataframe\">\n",
       "  <thead>\n",
       "    <tr style=\"text-align: right;\">\n",
       "      <th></th>\n",
       "      <th>ACCT_ID_M</th>\n",
       "      <th>DEPT_Retention_Inbound</th>\n",
       "      <th>DEPT_Retention_Outbound</th>\n",
       "    </tr>\n",
       "  </thead>\n",
       "  <tbody>\n",
       "    <tr>\n",
       "      <th>count</th>\n",
       "      <td>8.504000e+03</td>\n",
       "      <td>8504.000000</td>\n",
       "      <td>8504.000000</td>\n",
       "    </tr>\n",
       "    <tr>\n",
       "      <th>mean</th>\n",
       "      <td>1.965527e+07</td>\n",
       "      <td>0.018932</td>\n",
       "      <td>0.145108</td>\n",
       "    </tr>\n",
       "    <tr>\n",
       "      <th>std</th>\n",
       "      <td>6.522770e+06</td>\n",
       "      <td>0.214151</td>\n",
       "      <td>0.458169</td>\n",
       "    </tr>\n",
       "    <tr>\n",
       "      <th>min</th>\n",
       "      <td>3.585500e+04</td>\n",
       "      <td>0.000000</td>\n",
       "      <td>0.000000</td>\n",
       "    </tr>\n",
       "    <tr>\n",
       "      <th>25%</th>\n",
       "      <td>1.612805e+07</td>\n",
       "      <td>0.000000</td>\n",
       "      <td>0.000000</td>\n",
       "    </tr>\n",
       "    <tr>\n",
       "      <th>50%</th>\n",
       "      <td>2.265528e+07</td>\n",
       "      <td>0.000000</td>\n",
       "      <td>0.000000</td>\n",
       "    </tr>\n",
       "    <tr>\n",
       "      <th>75%</th>\n",
       "      <td>2.458723e+07</td>\n",
       "      <td>0.000000</td>\n",
       "      <td>0.000000</td>\n",
       "    </tr>\n",
       "    <tr>\n",
       "      <th>max</th>\n",
       "      <td>2.562478e+07</td>\n",
       "      <td>11.000000</td>\n",
       "      <td>10.000000</td>\n",
       "    </tr>\n",
       "  </tbody>\n",
       "</table>\n",
       "</div>"
      ],
      "text/plain": [
       "          ACCT_ID_M  DEPT_Retention_Inbound  DEPT_Retention_Outbound\n",
       "count  8.504000e+03             8504.000000              8504.000000\n",
       "mean   1.965527e+07                0.018932                 0.145108\n",
       "std    6.522770e+06                0.214151                 0.458169\n",
       "min    3.585500e+04                0.000000                 0.000000\n",
       "25%    1.612805e+07                0.000000                 0.000000\n",
       "50%    2.265528e+07                0.000000                 0.000000\n",
       "75%    2.458723e+07                0.000000                 0.000000\n",
       "max    2.562478e+07               11.000000                10.000000"
      ]
     },
     "execution_count": 32,
     "metadata": {},
     "output_type": "execute_result"
    }
   ],
   "source": [
    "InteractionInfo.describe()"
   ]
  },
  {
   "cell_type": "code",
   "execution_count": 33,
   "id": "c19b8daa-0e2b-4169-a986-2664dff8a010",
   "metadata": {},
   "outputs": [
    {
     "name": "stdout",
     "output_type": "stream",
     "text": [
      "(8504, 3)\n"
     ]
    }
   ],
   "source": [
    "print(InteractionInfo.shape)"
   ]
  },
  {
   "cell_type": "code",
   "execution_count": 34,
   "id": "dc8feea6-9cc2-4bd0-a67a-c91ccb3c32dc",
   "metadata": {},
   "outputs": [
    {
     "data": {
      "image/png": "[encoded data removed]",
      "text/plain": [
       "<Figure size 640x480 with 1 Axes>"
      ]
     },
     "metadata": {},
     "output_type": "display_data"
    }
   ],
   "source": [
    "DEPT_Retention_Inbound = InteractionInfo['DEPT_Retention_Inbound']\n",
    "DEPT_Retention_Outbound = InteractionInfo['DEPT_Retention_Outbound']\n",
    "plt.boxplot([DEPT_Retention_Inbound, DEPT_Retention_Outbound])\n",
    "plt.xticks([1, 2], ['DEPT_Retention_Inbound', 'DEPT_Retention_Outbound'], rotation = 90)\n",
    "plt.ylabel('Number')\n",
    "plt.title('Box plot of InteractionInfo')\n",
    "plt.show()"
   ]
  },
  {
   "cell_type": "code",
   "execution_count": 35,
   "id": "bb257c7f-102a-44a5-b8e0-f9b6cef4fe46",
   "metadata": {},
   "outputs": [
    {
     "name": "stdout",
     "output_type": "stream",
     "text": [
      "Number of outliers in column 1: 109\n",
      "Number of outliers in column 2: 987\n"
     ]
    },
    {
     "data": {
      "image/png": "[encoded data removed]",
      "text/plain": [
       "<Figure size 640x480 with 1 Axes>"
      ]
     },
     "metadata": {},
     "output_type": "display_data"
    }
   ],
   "source": [
    "outliers = [item.get_ydata() for item in plt.boxplot([DEPT_Retention_Inbound, DEPT_Retention_Outbound])['fliers']]\n",
    "for i, val in enumerate(outliers):\n",
    "    print(f\"Number of outliers in column {i+1}: {len(val)}\")"
   ]
  },
  {
   "cell_type": "code",
   "execution_count": 36,
   "id": "5c34dd25-515c-44c5-bc06-2b253fdeafbc",
   "metadata": {},
   "outputs": [
    {
     "data": {
      "text/html": [
       "<div>\n",
       "<style scoped>\n",
       "    .dataframe tbody tr th:only-of-type {\n",
       "        vertical-align: middle;\n",
       "    }\n",
       "\n",
       "    .dataframe tbody tr th {\n",
       "        vertical-align: top;\n",
       "    }\n",
       "\n",
       "    .dataframe thead th {\n",
       "        text-align: right;\n",
       "    }\n",
       "</style>\n",
       "<table border=\"1\" class=\"dataframe\">\n",
       "  <thead>\n",
       "    <tr style=\"text-align: right;\">\n",
       "      <th></th>\n",
       "      <th>Unnamed: 0</th>\n",
       "      <th>ACCT_ID_M</th>\n",
       "      <th>DIRECT_DEBIT_FLAG</th>\n",
       "      <th>NUM_PAYMENT_CHALLENGED_6M</th>\n",
       "      <th>NUM_REFUNDS_3M</th>\n",
       "      <th>CHANNEL_PAY_APOST_12M</th>\n",
       "      <th>CHANNEL_PAY_BPAY_12M</th>\n",
       "      <th>CHANNEL_PAY_BPOINT_12M</th>\n",
       "      <th>CHANNEL_PAY_DD_SAVING_12M</th>\n",
       "      <th>CHANNEL_PAY_DD_CREDIT_12M</th>\n",
       "    </tr>\n",
       "  </thead>\n",
       "  <tbody>\n",
       "    <tr>\n",
       "      <th>0</th>\n",
       "      <td>1085553</td>\n",
       "      <td>22929283</td>\n",
       "      <td>0</td>\n",
       "      <td>0</td>\n",
       "      <td>0</td>\n",
       "      <td>3</td>\n",
       "      <td>0</td>\n",
       "      <td>1</td>\n",
       "      <td>0</td>\n",
       "      <td>0</td>\n",
       "    </tr>\n",
       "    <tr>\n",
       "      <th>1</th>\n",
       "      <td>199699</td>\n",
       "      <td>16923669</td>\n",
       "      <td>0</td>\n",
       "      <td>0</td>\n",
       "      <td>0</td>\n",
       "      <td>0</td>\n",
       "      <td>5</td>\n",
       "      <td>0</td>\n",
       "      <td>0</td>\n",
       "      <td>0</td>\n",
       "    </tr>\n",
       "    <tr>\n",
       "      <th>2</th>\n",
       "      <td>533407</td>\n",
       "      <td>25124129</td>\n",
       "      <td>0</td>\n",
       "      <td>0</td>\n",
       "      <td>0</td>\n",
       "      <td>0</td>\n",
       "      <td>0</td>\n",
       "      <td>0</td>\n",
       "      <td>0</td>\n",
       "      <td>0</td>\n",
       "    </tr>\n",
       "    <tr>\n",
       "      <th>3</th>\n",
       "      <td>334221</td>\n",
       "      <td>22430133</td>\n",
       "      <td>1</td>\n",
       "      <td>0</td>\n",
       "      <td>0</td>\n",
       "      <td>0</td>\n",
       "      <td>0</td>\n",
       "      <td>0</td>\n",
       "      <td>2</td>\n",
       "      <td>0</td>\n",
       "    </tr>\n",
       "    <tr>\n",
       "      <th>4</th>\n",
       "      <td>1529002</td>\n",
       "      <td>16775871</td>\n",
       "      <td>1</td>\n",
       "      <td>0</td>\n",
       "      <td>0</td>\n",
       "      <td>0</td>\n",
       "      <td>0</td>\n",
       "      <td>0</td>\n",
       "      <td>4</td>\n",
       "      <td>0</td>\n",
       "    </tr>\n",
       "  </tbody>\n",
       "</table>\n",
       "</div>"
      ],
      "text/plain": [
       "   Unnamed: 0  ACCT_ID_M  DIRECT_DEBIT_FLAG  NUM_PAYMENT_CHALLENGED_6M  \\\n",
       "0     1085553   22929283                  0                          0   \n",
       "1      199699   16923669                  0                          0   \n",
       "2      533407   25124129                  0                          0   \n",
       "3      334221   22430133                  1                          0   \n",
       "4     1529002   16775871                  1                          0   \n",
       "\n",
       "   NUM_REFUNDS_3M  CHANNEL_PAY_APOST_12M  CHANNEL_PAY_BPAY_12M  \\\n",
       "0               0                      3                     0   \n",
       "1               0                      0                     5   \n",
       "2               0                      0                     0   \n",
       "3               0                      0                     0   \n",
       "4               0                      0                     0   \n",
       "\n",
       "   CHANNEL_PAY_BPOINT_12M  CHANNEL_PAY_DD_SAVING_12M  \\\n",
       "0                       1                          0   \n",
       "1                       0                          0   \n",
       "2                       0                          0   \n",
       "3                       0                          2   \n",
       "4                       0                          4   \n",
       "\n",
       "   CHANNEL_PAY_DD_CREDIT_12M  \n",
       "0                          0  \n",
       "1                          0  \n",
       "2                          0  \n",
       "3                          0  \n",
       "4                          0  "
      ]
     },
     "execution_count": 36,
     "metadata": {},
     "output_type": "execute_result"
    }
   ],
   "source": [
    "PaymentInfo = df=pd.read_csv('paymentinfo.csv')\n",
    "df=pd.read_csv('paymentinfo.csv')\n",
    "df.head()"
   ]
  },
  {
   "cell_type": "code",
   "execution_count": 37,
   "id": "cf77b05a-1b7d-4ff8-9c5e-da2fc41b756e",
   "metadata": {},
   "outputs": [
    {
     "data": {
      "text/html": [
       "<div>\n",
       "<style scoped>\n",
       "    .dataframe tbody tr th:only-of-type {\n",
       "        vertical-align: middle;\n",
       "    }\n",
       "\n",
       "    .dataframe tbody tr th {\n",
       "        vertical-align: top;\n",
       "    }\n",
       "\n",
       "    .dataframe thead th {\n",
       "        text-align: right;\n",
       "    }\n",
       "</style>\n",
       "<table border=\"1\" class=\"dataframe\">\n",
       "  <thead>\n",
       "    <tr style=\"text-align: right;\">\n",
       "      <th></th>\n",
       "      <th>ACCT_ID_M</th>\n",
       "      <th>DIRECT_DEBIT_FLAG</th>\n",
       "      <th>NUM_PAYMENT_CHALLENGED_6M</th>\n",
       "      <th>NUM_REFUNDS_3M</th>\n",
       "      <th>CHANNEL_PAY_APOST_12M</th>\n",
       "      <th>CHANNEL_PAY_BPAY_12M</th>\n",
       "      <th>CHANNEL_PAY_BPOINT_12M</th>\n",
       "      <th>CHANNEL_PAY_DD_SAVING_12M</th>\n",
       "      <th>CHANNEL_PAY_DD_CREDIT_12M</th>\n",
       "    </tr>\n",
       "  </thead>\n",
       "  <tbody>\n",
       "    <tr>\n",
       "      <th>0</th>\n",
       "      <td>22929283</td>\n",
       "      <td>0</td>\n",
       "      <td>0</td>\n",
       "      <td>0</td>\n",
       "      <td>3</td>\n",
       "      <td>0</td>\n",
       "      <td>1</td>\n",
       "      <td>0</td>\n",
       "      <td>0</td>\n",
       "    </tr>\n",
       "    <tr>\n",
       "      <th>1</th>\n",
       "      <td>16923669</td>\n",
       "      <td>0</td>\n",
       "      <td>0</td>\n",
       "      <td>0</td>\n",
       "      <td>0</td>\n",
       "      <td>5</td>\n",
       "      <td>0</td>\n",
       "      <td>0</td>\n",
       "      <td>0</td>\n",
       "    </tr>\n",
       "    <tr>\n",
       "      <th>2</th>\n",
       "      <td>25124129</td>\n",
       "      <td>0</td>\n",
       "      <td>0</td>\n",
       "      <td>0</td>\n",
       "      <td>0</td>\n",
       "      <td>0</td>\n",
       "      <td>0</td>\n",
       "      <td>0</td>\n",
       "      <td>0</td>\n",
       "    </tr>\n",
       "    <tr>\n",
       "      <th>3</th>\n",
       "      <td>22430133</td>\n",
       "      <td>1</td>\n",
       "      <td>0</td>\n",
       "      <td>0</td>\n",
       "      <td>0</td>\n",
       "      <td>0</td>\n",
       "      <td>0</td>\n",
       "      <td>2</td>\n",
       "      <td>0</td>\n",
       "    </tr>\n",
       "    <tr>\n",
       "      <th>4</th>\n",
       "      <td>16775871</td>\n",
       "      <td>1</td>\n",
       "      <td>0</td>\n",
       "      <td>0</td>\n",
       "      <td>0</td>\n",
       "      <td>0</td>\n",
       "      <td>0</td>\n",
       "      <td>4</td>\n",
       "      <td>0</td>\n",
       "    </tr>\n",
       "  </tbody>\n",
       "</table>\n",
       "</div>"
      ],
      "text/plain": [
       "   ACCT_ID_M  DIRECT_DEBIT_FLAG  NUM_PAYMENT_CHALLENGED_6M  NUM_REFUNDS_3M  \\\n",
       "0   22929283                  0                          0               0   \n",
       "1   16923669                  0                          0               0   \n",
       "2   25124129                  0                          0               0   \n",
       "3   22430133                  1                          0               0   \n",
       "4   16775871                  1                          0               0   \n",
       "\n",
       "   CHANNEL_PAY_APOST_12M  CHANNEL_PAY_BPAY_12M  CHANNEL_PAY_BPOINT_12M  \\\n",
       "0                      3                     0                       1   \n",
       "1                      0                     5                       0   \n",
       "2                      0                     0                       0   \n",
       "3                      0                     0                       0   \n",
       "4                      0                     0                       0   \n",
       "\n",
       "   CHANNEL_PAY_DD_SAVING_12M  CHANNEL_PAY_DD_CREDIT_12M  \n",
       "0                          0                          0  \n",
       "1                          0                          0  \n",
       "2                          0                          0  \n",
       "3                          2                          0  \n",
       "4                          4                          0  "
      ]
     },
     "execution_count": 37,
     "metadata": {},
     "output_type": "execute_result"
    }
   ],
   "source": [
    "PaymentInfo = PaymentInfo.drop('Unnamed: 0', axis=1)\n",
    "PaymentInfo.head()"
   ]
  },
  {
   "cell_type": "code",
   "execution_count": 38,
   "id": "302f878f-d459-4e6b-b445-bffd0cabfecd",
   "metadata": {},
   "outputs": [
    {
     "name": "stdout",
     "output_type": "stream",
     "text": [
      "(35000, 9)\n"
     ]
    }
   ],
   "source": [
    "print(PaymentInfo.shape)"
   ]
  },
  {
   "cell_type": "code",
   "execution_count": 39,
   "id": "80fdadb0-c59c-4d85-8dde-0cad20a3a246",
   "metadata": {},
   "outputs": [
    {
     "data": {
      "text/html": [
       "<div>\n",
       "<style scoped>\n",
       "    .dataframe tbody tr th:only-of-type {\n",
       "        vertical-align: middle;\n",
       "    }\n",
       "\n",
       "    .dataframe tbody tr th {\n",
       "        vertical-align: top;\n",
       "    }\n",
       "\n",
       "    .dataframe thead th {\n",
       "        text-align: right;\n",
       "    }\n",
       "</style>\n",
       "<table border=\"1\" class=\"dataframe\">\n",
       "  <thead>\n",
       "    <tr style=\"text-align: right;\">\n",
       "      <th></th>\n",
       "      <th>ACCT_ID_M</th>\n",
       "      <th>DIRECT_DEBIT_FLAG</th>\n",
       "      <th>NUM_PAYMENT_CHALLENGED_6M</th>\n",
       "      <th>NUM_REFUNDS_3M</th>\n",
       "      <th>CHANNEL_PAY_APOST_12M</th>\n",
       "      <th>CHANNEL_PAY_BPAY_12M</th>\n",
       "      <th>CHANNEL_PAY_BPOINT_12M</th>\n",
       "      <th>CHANNEL_PAY_DD_SAVING_12M</th>\n",
       "      <th>CHANNEL_PAY_DD_CREDIT_12M</th>\n",
       "    </tr>\n",
       "  </thead>\n",
       "  <tbody>\n",
       "    <tr>\n",
       "      <th>count</th>\n",
       "      <td>3.500000e+04</td>\n",
       "      <td>35000.000000</td>\n",
       "      <td>35000.000000</td>\n",
       "      <td>35000.0</td>\n",
       "      <td>35000.000000</td>\n",
       "      <td>35000.000000</td>\n",
       "      <td>35000.000000</td>\n",
       "      <td>35000.000000</td>\n",
       "      <td>35000.000000</td>\n",
       "    </tr>\n",
       "    <tr>\n",
       "      <th>mean</th>\n",
       "      <td>1.623447e+07</td>\n",
       "      <td>0.233543</td>\n",
       "      <td>0.000086</td>\n",
       "      <td>0.0</td>\n",
       "      <td>0.588171</td>\n",
       "      <td>2.540286</td>\n",
       "      <td>0.887514</td>\n",
       "      <td>0.940771</td>\n",
       "      <td>0.457000</td>\n",
       "    </tr>\n",
       "    <tr>\n",
       "      <th>std</th>\n",
       "      <td>7.807165e+06</td>\n",
       "      <td>0.423091</td>\n",
       "      <td>0.009258</td>\n",
       "      <td>0.0</td>\n",
       "      <td>2.368263</td>\n",
       "      <td>6.290157</td>\n",
       "      <td>2.149370</td>\n",
       "      <td>4.078539</td>\n",
       "      <td>2.112451</td>\n",
       "    </tr>\n",
       "    <tr>\n",
       "      <th>min</th>\n",
       "      <td>2.930000e+02</td>\n",
       "      <td>0.000000</td>\n",
       "      <td>0.000000</td>\n",
       "      <td>0.0</td>\n",
       "      <td>0.000000</td>\n",
       "      <td>0.000000</td>\n",
       "      <td>0.000000</td>\n",
       "      <td>0.000000</td>\n",
       "      <td>0.000000</td>\n",
       "    </tr>\n",
       "    <tr>\n",
       "      <th>25%</th>\n",
       "      <td>9.629554e+06</td>\n",
       "      <td>0.000000</td>\n",
       "      <td>0.000000</td>\n",
       "      <td>0.0</td>\n",
       "      <td>0.000000</td>\n",
       "      <td>0.000000</td>\n",
       "      <td>0.000000</td>\n",
       "      <td>0.000000</td>\n",
       "      <td>0.000000</td>\n",
       "    </tr>\n",
       "    <tr>\n",
       "      <th>50%</th>\n",
       "      <td>1.865487e+07</td>\n",
       "      <td>0.000000</td>\n",
       "      <td>0.000000</td>\n",
       "      <td>0.0</td>\n",
       "      <td>0.000000</td>\n",
       "      <td>0.000000</td>\n",
       "      <td>0.000000</td>\n",
       "      <td>0.000000</td>\n",
       "      <td>0.000000</td>\n",
       "    </tr>\n",
       "    <tr>\n",
       "      <th>75%</th>\n",
       "      <td>2.323424e+07</td>\n",
       "      <td>0.000000</td>\n",
       "      <td>0.000000</td>\n",
       "      <td>0.0</td>\n",
       "      <td>0.000000</td>\n",
       "      <td>4.000000</td>\n",
       "      <td>1.000000</td>\n",
       "      <td>0.000000</td>\n",
       "      <td>0.000000</td>\n",
       "    </tr>\n",
       "    <tr>\n",
       "      <th>max</th>\n",
       "      <td>2.562478e+07</td>\n",
       "      <td>1.000000</td>\n",
       "      <td>1.000000</td>\n",
       "      <td>0.0</td>\n",
       "      <td>51.000000</td>\n",
       "      <td>125.000000</td>\n",
       "      <td>55.000000</td>\n",
       "      <td>53.000000</td>\n",
       "      <td>52.000000</td>\n",
       "    </tr>\n",
       "  </tbody>\n",
       "</table>\n",
       "</div>"
      ],
      "text/plain": [
       "          ACCT_ID_M  DIRECT_DEBIT_FLAG  NUM_PAYMENT_CHALLENGED_6M  \\\n",
       "count  3.500000e+04       35000.000000               35000.000000   \n",
       "mean   1.623447e+07           0.233543                   0.000086   \n",
       "std    7.807165e+06           0.423091                   0.009258   \n",
       "min    2.930000e+02           0.000000                   0.000000   \n",
       "25%    9.629554e+06           0.000000                   0.000000   \n",
       "50%    1.865487e+07           0.000000                   0.000000   \n",
       "75%    2.323424e+07           0.000000                   0.000000   \n",
       "max    2.562478e+07           1.000000                   1.000000   \n",
       "\n",
       "       NUM_REFUNDS_3M  CHANNEL_PAY_APOST_12M  CHANNEL_PAY_BPAY_12M  \\\n",
       "count         35000.0           35000.000000          35000.000000   \n",
       "mean              0.0               0.588171              2.540286   \n",
       "std               0.0               2.368263              6.290157   \n",
       "min               0.0               0.000000              0.000000   \n",
       "25%               0.0               0.000000              0.000000   \n",
       "50%               0.0               0.000000              0.000000   \n",
       "75%               0.0               0.000000              4.000000   \n",
       "max               0.0              51.000000            125.000000   \n",
       "\n",
       "       CHANNEL_PAY_BPOINT_12M  CHANNEL_PAY_DD_SAVING_12M  \\\n",
       "count            35000.000000               35000.000000   \n",
       "mean                 0.887514                   0.940771   \n",
       "std                  2.149370                   4.078539   \n",
       "min                  0.000000                   0.000000   \n",
       "25%                  0.000000                   0.000000   \n",
       "50%                  0.000000                   0.000000   \n",
       "75%                  1.000000                   0.000000   \n",
       "max                 55.000000                  53.000000   \n",
       "\n",
       "       CHANNEL_PAY_DD_CREDIT_12M  \n",
       "count               35000.000000  \n",
       "mean                    0.457000  \n",
       "std                     2.112451  \n",
       "min                     0.000000  \n",
       "25%                     0.000000  \n",
       "50%                     0.000000  \n",
       "75%                     0.000000  \n",
       "max                    52.000000  "
      ]
     },
     "execution_count": 39,
     "metadata": {},
     "output_type": "execute_result"
    }
   ],
   "source": [
    "PaymentInfo.describe()"
   ]
  },
  {
   "cell_type": "code",
   "execution_count": 40,
   "id": "cf063940-5a03-47b7-a61f-e68794b58ef8",
   "metadata": {},
   "outputs": [
    {
     "data": {
      "text/plain": [
       "ACCT_ID_M                    0\n",
       "DIRECT_DEBIT_FLAG            0\n",
       "NUM_PAYMENT_CHALLENGED_6M    0\n",
       "NUM_REFUNDS_3M               0\n",
       "CHANNEL_PAY_APOST_12M        0\n",
       "CHANNEL_PAY_BPAY_12M         0\n",
       "CHANNEL_PAY_BPOINT_12M       0\n",
       "CHANNEL_PAY_DD_SAVING_12M    0\n",
       "CHANNEL_PAY_DD_CREDIT_12M    0\n",
       "dtype: int64"
      ]
     },
     "execution_count": 40,
     "metadata": {},
     "output_type": "execute_result"
    }
   ],
   "source": [
    "PaymentInfo.isna().sum()"
   ]
  },
  {
   "cell_type": "code",
   "execution_count": 41,
   "id": "57271c43-5ba3-4d76-a694-1b64ba4b578a",
   "metadata": {},
   "outputs": [
    {
     "name": "stdout",
     "output_type": "stream",
     "text": [
      "0\n"
     ]
    }
   ],
   "source": [
    "num_duplicates = len(PaymentInfo) - len(PaymentInfo.drop_duplicates())\n",
    "print(num_duplicates)"
   ]
  },
  {
   "cell_type": "code",
   "execution_count": 42,
   "id": "d654499c-54f0-44ac-82a9-e6eaacbf54d9",
   "metadata": {},
   "outputs": [
    {
     "data": {
      "image/png": "[encoded data removed]",
      "text/plain": [
       "<Figure size 640x480 with 1 Axes>"
      ]
     },
     "metadata": {},
     "output_type": "display_data"
    }
   ],
   "source": [
    "DIRECT_DEBIT_FLAG = PaymentInfo['DIRECT_DEBIT_FLAG']\n",
    "NUM_PAYMENT_CHALLENGED_6M = PaymentInfo['NUM_PAYMENT_CHALLENGED_6M']\n",
    "NUM_REFUNDS_3M = PaymentInfo['NUM_REFUNDS_3M']\n",
    "CHANNEL_PAY_APOST_12M = PaymentInfo['CHANNEL_PAY_APOST_12M']\n",
    "CHANNEL_PAY_BPAY_12M = PaymentInfo['CHANNEL_PAY_BPAY_12M']\n",
    "CHANNEL_PAY_BPOINT_12M = PaymentInfo['CHANNEL_PAY_BPOINT_12M']\n",
    "CHANNEL_PAY_DD_SAVING_12M = PaymentInfo['CHANNEL_PAY_DD_SAVING_12M']\n",
    "CHANNEL_PAY_DD_CREDIT_12M = PaymentInfo['CHANNEL_PAY_DD_CREDIT_12M']\n",
    "plt.boxplot([DIRECT_DEBIT_FLAG, NUM_PAYMENT_CHALLENGED_6M, NUM_REFUNDS_3M, CHANNEL_PAY_APOST_12M, CHANNEL_PAY_BPAY_12M,CHANNEL_PAY_BPOINT_12M, CHANNEL_PAY_DD_SAVING_12M, CHANNEL_PAY_DD_CREDIT_12M])\n",
    "plt.xticks([1, 2, 3, 4, 5, 6, 7, 8], ['DIRECT_DEBIT_FLAG', 'NUM_PAYMENT_CHALLENGED_6M', 'NUM_REFUNDS_3M', 'CHANNEL_PAY_APOST_12M', 'CHANNEL_PAY_BPAY_12M', 'CHANNEL_PAY_BPOINT_12M', 'CHANNEL_PAY_DD_SAVING_12M', 'CHANNEL_PAY_DD_CREDIT_12M'], rotation = 90)\n",
    "plt.ylabel('Number')\n",
    "plt.title('Box plot of paymentinfo')\n",
    "plt.show()"
   ]
  },
  {
   "cell_type": "code",
   "execution_count": 43,
   "id": "6a6ba7a3-2895-4587-89f1-5aa478b0ea29",
   "metadata": {},
   "outputs": [
    {
     "name": "stdout",
     "output_type": "stream",
     "text": [
      "Number of outliers in column 1: 8174\n",
      "Number of outliers in column 2: 3\n",
      "Number of outliers in column 3: 0\n",
      "Number of outliers in column 4: 4433\n",
      "Number of outliers in column 5: 1544\n",
      "Number of outliers in column 6: 5325\n",
      "Number of outliers in column 7: 4393\n",
      "Number of outliers in column 8: 3298\n"
     ]
    },
    {
     "data": {
      "image/png": "[encoded data removed]",
      "text/plain": [
       "<Figure size 640x480 with 1 Axes>"
      ]
     },
     "metadata": {},
     "output_type": "display_data"
    }
   ],
   "source": [
    "outliers = [item.get_ydata() for item in plt.boxplot([DIRECT_DEBIT_FLAG, NUM_PAYMENT_CHALLENGED_6M, NUM_REFUNDS_3M, CHANNEL_PAY_APOST_12M, CHANNEL_PAY_BPAY_12M,CHANNEL_PAY_BPOINT_12M, CHANNEL_PAY_DD_SAVING_12M, CHANNEL_PAY_DD_CREDIT_12M])['fliers']]\n",
    "for i, val in enumerate(outliers):\n",
    "    print(f\"Number of outliers in column {i+1}: {len(val)}\")"
   ]
  },
  {
   "cell_type": "code",
   "execution_count": 44,
   "id": "45f44a8c-54e2-461c-bdc1-0652134852bd",
   "metadata": {
    "tags": []
   },
   "outputs": [
    {
     "data": {
      "text/html": [
       "<div>\n",
       "<style scoped>\n",
       "    .dataframe tbody tr th:only-of-type {\n",
       "        vertical-align: middle;\n",
       "    }\n",
       "\n",
       "    .dataframe tbody tr th {\n",
       "        vertical-align: top;\n",
       "    }\n",
       "\n",
       "    .dataframe thead th {\n",
       "        text-align: right;\n",
       "    }\n",
       "</style>\n",
       "<table border=\"1\" class=\"dataframe\">\n",
       "  <thead>\n",
       "    <tr style=\"text-align: right;\">\n",
       "      <th></th>\n",
       "      <th>Unnamed: 0</th>\n",
       "      <th>ACCT_ID_M</th>\n",
       "      <th>PREMISE_POSTCODE</th>\n",
       "    </tr>\n",
       "  </thead>\n",
       "  <tbody>\n",
       "    <tr>\n",
       "      <th>0</th>\n",
       "      <td>1085553</td>\n",
       "      <td>22929283</td>\n",
       "      <td>2154</td>\n",
       "    </tr>\n",
       "    <tr>\n",
       "      <th>1</th>\n",
       "      <td>199699</td>\n",
       "      <td>16923669</td>\n",
       "      <td>2020</td>\n",
       "    </tr>\n",
       "    <tr>\n",
       "      <th>2</th>\n",
       "      <td>1942451</td>\n",
       "      <td>19428623</td>\n",
       "      <td>2250</td>\n",
       "    </tr>\n",
       "    <tr>\n",
       "      <th>3</th>\n",
       "      <td>2271418</td>\n",
       "      <td>22043987</td>\n",
       "      <td>2321</td>\n",
       "    </tr>\n",
       "    <tr>\n",
       "      <th>4</th>\n",
       "      <td>643687</td>\n",
       "      <td>24457111</td>\n",
       "      <td>2113</td>\n",
       "    </tr>\n",
       "  </tbody>\n",
       "</table>\n",
       "</div>"
      ],
      "text/plain": [
       "   Unnamed: 0  ACCT_ID_M  PREMISE_POSTCODE\n",
       "0     1085553   22929283              2154\n",
       "1      199699   16923669              2020\n",
       "2     1942451   19428623              2250\n",
       "3     2271418   22043987              2321\n",
       "4      643687   24457111              2113"
      ]
     },
     "execution_count": 44,
     "metadata": {},
     "output_type": "execute_result"
    }
   ],
   "source": [
    "PremiseInfo = df=pd.read_csv('premiseinfo.csv')\n",
    "df=pd.read_csv('premiseinfo.csv')\n",
    "df.head()"
   ]
  },
  {
   "cell_type": "code",
   "execution_count": 45,
   "id": "654b84e3-4f5c-4bd3-9e89-a297bbd6d4fc",
   "metadata": {
    "tags": []
   },
   "outputs": [
    {
     "data": {
      "text/plain": [
       "Unnamed: 0          0\n",
       "ACCT_ID_M           0\n",
       "PREMISE_POSTCODE    0\n",
       "dtype: int64"
      ]
     },
     "execution_count": 45,
     "metadata": {},
     "output_type": "execute_result"
    }
   ],
   "source": [
    "PremiseInfo.isna().sum()"
   ]
  },
  {
   "cell_type": "code",
   "execution_count": 46,
   "id": "c63e3e04-e245-45e5-ac38-2360ce1c229c",
   "metadata": {},
   "outputs": [
    {
     "name": "stdout",
     "output_type": "stream",
     "text": [
      "0\n"
     ]
    }
   ],
   "source": [
    "num_duplicates = len(PremiseInfo) - len(PremiseInfo.drop_duplicates())\n",
    "print(num_duplicates)"
   ]
  },
  {
   "cell_type": "code",
   "execution_count": 47,
   "id": "4ea0741c-ff50-43c9-9a91-d0e416c52c40",
   "metadata": {},
   "outputs": [],
   "source": [
    "PremiseInfo = PremiseInfo.drop('Unnamed: 0', axis=1)"
   ]
  },
  {
   "cell_type": "code",
   "execution_count": 48,
   "id": "3c59cd0c-8dba-4664-9091-740675542ed2",
   "metadata": {},
   "outputs": [
    {
     "data": {
      "text/plain": [
       "ACCT_ID_M           0\n",
       "PREMISE_POSTCODE    0\n",
       "dtype: int64"
      ]
     },
     "execution_count": 48,
     "metadata": {},
     "output_type": "execute_result"
    }
   ],
   "source": [
    "PremiseInfo.isna().sum()"
   ]
  },
  {
   "cell_type": "code",
   "execution_count": 49,
   "id": "1c49a251-4794-48f4-a104-ece748fcd5f4",
   "metadata": {},
   "outputs": [
    {
     "data": {
      "text/html": [
       "<div>\n",
       "<style scoped>\n",
       "    .dataframe tbody tr th:only-of-type {\n",
       "        vertical-align: middle;\n",
       "    }\n",
       "\n",
       "    .dataframe tbody tr th {\n",
       "        vertical-align: top;\n",
       "    }\n",
       "\n",
       "    .dataframe thead th {\n",
       "        text-align: right;\n",
       "    }\n",
       "</style>\n",
       "<table border=\"1\" class=\"dataframe\">\n",
       "  <thead>\n",
       "    <tr style=\"text-align: right;\">\n",
       "      <th></th>\n",
       "      <th>ACCT_ID_M</th>\n",
       "      <th>PREMISE_POSTCODE</th>\n",
       "    </tr>\n",
       "  </thead>\n",
       "  <tbody>\n",
       "    <tr>\n",
       "      <th>count</th>\n",
       "      <td>3.000000e+04</td>\n",
       "      <td>30000.000000</td>\n",
       "    </tr>\n",
       "    <tr>\n",
       "      <th>mean</th>\n",
       "      <td>1.626808e+07</td>\n",
       "      <td>2847.992867</td>\n",
       "    </tr>\n",
       "    <tr>\n",
       "      <th>std</th>\n",
       "      <td>7.769378e+06</td>\n",
       "      <td>809.863680</td>\n",
       "    </tr>\n",
       "    <tr>\n",
       "      <th>min</th>\n",
       "      <td>5.110000e+02</td>\n",
       "      <td>2000.000000</td>\n",
       "    </tr>\n",
       "    <tr>\n",
       "      <th>25%</th>\n",
       "      <td>9.732900e+06</td>\n",
       "      <td>2165.000000</td>\n",
       "    </tr>\n",
       "    <tr>\n",
       "      <th>50%</th>\n",
       "      <td>1.864944e+07</td>\n",
       "      <td>2594.000000</td>\n",
       "    </tr>\n",
       "    <tr>\n",
       "      <th>75%</th>\n",
       "      <td>2.320933e+07</td>\n",
       "      <td>3212.000000</td>\n",
       "    </tr>\n",
       "    <tr>\n",
       "      <th>max</th>\n",
       "      <td>2.561974e+07</td>\n",
       "      <td>5710.000000</td>\n",
       "    </tr>\n",
       "  </tbody>\n",
       "</table>\n",
       "</div>"
      ],
      "text/plain": [
       "          ACCT_ID_M  PREMISE_POSTCODE\n",
       "count  3.000000e+04      30000.000000\n",
       "mean   1.626808e+07       2847.992867\n",
       "std    7.769378e+06        809.863680\n",
       "min    5.110000e+02       2000.000000\n",
       "25%    9.732900e+06       2165.000000\n",
       "50%    1.864944e+07       2594.000000\n",
       "75%    2.320933e+07       3212.000000\n",
       "max    2.561974e+07       5710.000000"
      ]
     },
     "execution_count": 49,
     "metadata": {},
     "output_type": "execute_result"
    }
   ],
   "source": [
    "PremiseInfo.describe()"
   ]
  },
  {
   "cell_type": "code",
   "execution_count": 50,
   "id": "d6202fea-dd7e-42bf-aad5-d06906fd5d51",
   "metadata": {},
   "outputs": [
    {
     "name": "stdout",
     "output_type": "stream",
     "text": [
      "2250    232\n",
      "2000    215\n",
      "3029    209\n",
      "3030    204\n",
      "3977    182\n",
      "       ... \n",
      "3428      1\n",
      "5213      1\n",
      "2864      1\n",
      "5204      1\n",
      "5632      1\n",
      "Name: PREMISE_POSTCODE, Length: 1406, dtype: int64\n"
     ]
    }
   ],
   "source": [
    "print(PremiseInfo['PREMISE_POSTCODE'].value_counts())"
   ]
  },
  {
   "cell_type": "code",
   "execution_count": 51,
   "id": "3a346ba0-ece2-4872-b343-aa34e7a91238",
   "metadata": {},
   "outputs": [
    {
     "data": {
      "text/plain": [
       "(30000, 2)"
      ]
     },
     "execution_count": 51,
     "metadata": {},
     "output_type": "execute_result"
    }
   ],
   "source": [
    "PremiseInfo.shape"
   ]
  },
  {
   "cell_type": "code",
   "execution_count": 52,
   "id": "8d9751a6-936a-4945-9fef-70b9ef0216b9",
   "metadata": {
    "scrolled": true
   },
   "outputs": [
    {
     "data": {
      "text/html": [
       "<div>\n",
       "<style scoped>\n",
       "    .dataframe tbody tr th:only-of-type {\n",
       "        vertical-align: middle;\n",
       "    }\n",
       "\n",
       "    .dataframe tbody tr th {\n",
       "        vertical-align: top;\n",
       "    }\n",
       "\n",
       "    .dataframe thead th {\n",
       "        text-align: right;\n",
       "    }\n",
       "</style>\n",
       "<table border=\"1\" class=\"dataframe\">\n",
       "  <thead>\n",
       "    <tr style=\"text-align: right;\">\n",
       "      <th></th>\n",
       "      <th>Unnamed: 0</th>\n",
       "      <th>ACCT_ID_M</th>\n",
       "      <th>OFFER_CHANNEL_CODE</th>\n",
       "      <th>ACQ_BROKER_EVER</th>\n",
       "      <th>ACQ_EXTERNAL_EVER</th>\n",
       "      <th>ACQ_INTERNAL_EVER</th>\n",
       "      <th>DEPT_Sales Chat</th>\n",
       "    </tr>\n",
       "  </thead>\n",
       "  <tbody>\n",
       "    <tr>\n",
       "      <th>0</th>\n",
       "      <td>199699</td>\n",
       "      <td>16923669</td>\n",
       "      <td>CST</td>\n",
       "      <td>0</td>\n",
       "      <td>0</td>\n",
       "      <td>1</td>\n",
       "      <td>NaN</td>\n",
       "    </tr>\n",
       "    <tr>\n",
       "      <th>1</th>\n",
       "      <td>334221</td>\n",
       "      <td>22430133</td>\n",
       "      <td>NEWCON</td>\n",
       "      <td>0</td>\n",
       "      <td>1</td>\n",
       "      <td>1</td>\n",
       "      <td>NaN</td>\n",
       "    </tr>\n",
       "    <tr>\n",
       "      <th>2</th>\n",
       "      <td>1529002</td>\n",
       "      <td>16775871</td>\n",
       "      <td>UNK</td>\n",
       "      <td>0</td>\n",
       "      <td>0</td>\n",
       "      <td>1</td>\n",
       "      <td>NaN</td>\n",
       "    </tr>\n",
       "    <tr>\n",
       "      <th>3</th>\n",
       "      <td>2271418</td>\n",
       "      <td>22043987</td>\n",
       "      <td>ONLINETPU</td>\n",
       "      <td>0</td>\n",
       "      <td>0</td>\n",
       "      <td>1</td>\n",
       "      <td>NaN</td>\n",
       "    </tr>\n",
       "    <tr>\n",
       "      <th>4</th>\n",
       "      <td>643687</td>\n",
       "      <td>24457111</td>\n",
       "      <td>DIGITAL</td>\n",
       "      <td>0</td>\n",
       "      <td>0</td>\n",
       "      <td>1</td>\n",
       "      <td>NaN</td>\n",
       "    </tr>\n",
       "  </tbody>\n",
       "</table>\n",
       "</div>"
      ],
      "text/plain": [
       "   Unnamed: 0  ACCT_ID_M OFFER_CHANNEL_CODE  ACQ_BROKER_EVER  \\\n",
       "0      199699   16923669                CST                0   \n",
       "1      334221   22430133             NEWCON                0   \n",
       "2     1529002   16775871                UNK                0   \n",
       "3     2271418   22043987          ONLINETPU                0   \n",
       "4      643687   24457111            DIGITAL                0   \n",
       "\n",
       "   ACQ_EXTERNAL_EVER  ACQ_INTERNAL_EVER  DEPT_Sales Chat  \n",
       "0                  0                  1              NaN  \n",
       "1                  1                  1              NaN  \n",
       "2                  0                  1              NaN  \n",
       "3                  0                  1              NaN  \n",
       "4                  0                  1              NaN  "
      ]
     },
     "execution_count": 52,
     "metadata": {},
     "output_type": "execute_result"
    }
   ],
   "source": [
    "SignupSalesInfo = df=pd.read_csv('signupsalesinfo.csv')\n",
    "df=pd.read_csv('signupsalesinfo.csv')\n",
    "df.head()"
   ]
  },
  {
   "cell_type": "code",
   "execution_count": 53,
   "id": "3dfe7baa-559e-4838-8da4-0062c66c2c71",
   "metadata": {},
   "outputs": [],
   "source": [
    "SignupSalesInfo = SignupSalesInfo.drop('Unnamed: 0', axis=1)"
   ]
  },
  {
   "cell_type": "code",
   "execution_count": 54,
   "id": "fd452ad9",
   "metadata": {},
   "outputs": [
    {
     "data": {
      "text/plain": [
       "<bound method NDFrame.head of        ACCT_ID_M OFFER_CHANNEL_CODE  ACQ_BROKER_EVER  ACQ_EXTERNAL_EVER  \\\n",
       "0       16923669                CST                0                  0   \n",
       "1       22430133             NEWCON                0                  1   \n",
       "2       16775871                UNK                0                  0   \n",
       "3       22043987          ONLINETPU                0                  0   \n",
       "4       24457111            DIGITAL                0                  0   \n",
       "...          ...                ...              ...                ...   \n",
       "32745    3588567                CST                0                  1   \n",
       "32746   15171859            DATACOM                0                  0   \n",
       "32747   23489471               NBSC                0                  0   \n",
       "32748   24829069               NBSC                0                  0   \n",
       "32749   23468537          ONLINETPU                0                  0   \n",
       "\n",
       "       ACQ_INTERNAL_EVER  DEPT_Sales Chat  \n",
       "0                      1              NaN  \n",
       "1                      1              NaN  \n",
       "2                      1              NaN  \n",
       "3                      1              NaN  \n",
       "4                      1              NaN  \n",
       "...                  ...              ...  \n",
       "32745                  0              NaN  \n",
       "32746                  1              0.0  \n",
       "32747                  1              NaN  \n",
       "32748                  1              NaN  \n",
       "32749                  1              0.0  \n",
       "\n",
       "[32750 rows x 6 columns]>"
      ]
     },
     "execution_count": 54,
     "metadata": {},
     "output_type": "execute_result"
    }
   ],
   "source": [
    "SignupSalesInfo.head"
   ]
  },
  {
   "cell_type": "code",
   "execution_count": 55,
   "id": "59477123-9a57-47f8-bca9-353aaa797687",
   "metadata": {},
   "outputs": [
    {
     "data": {
      "text/html": [
       "<div>\n",
       "<style scoped>\n",
       "    .dataframe tbody tr th:only-of-type {\n",
       "        vertical-align: middle;\n",
       "    }\n",
       "\n",
       "    .dataframe tbody tr th {\n",
       "        vertical-align: top;\n",
       "    }\n",
       "\n",
       "    .dataframe thead th {\n",
       "        text-align: right;\n",
       "    }\n",
       "</style>\n",
       "<table border=\"1\" class=\"dataframe\">\n",
       "  <thead>\n",
       "    <tr style=\"text-align: right;\">\n",
       "      <th></th>\n",
       "      <th>ACCT_ID_M</th>\n",
       "      <th>ACQ_BROKER_EVER</th>\n",
       "      <th>ACQ_EXTERNAL_EVER</th>\n",
       "      <th>ACQ_INTERNAL_EVER</th>\n",
       "      <th>DEPT_Sales Chat</th>\n",
       "    </tr>\n",
       "  </thead>\n",
       "  <tbody>\n",
       "    <tr>\n",
       "      <th>count</th>\n",
       "      <td>3.275000e+04</td>\n",
       "      <td>32750.000000</td>\n",
       "      <td>32750.000000</td>\n",
       "      <td>32750.000000</td>\n",
       "      <td>6226.000000</td>\n",
       "    </tr>\n",
       "    <tr>\n",
       "      <th>mean</th>\n",
       "      <td>1.627124e+07</td>\n",
       "      <td>0.000977</td>\n",
       "      <td>0.178168</td>\n",
       "      <td>0.795511</td>\n",
       "      <td>0.009155</td>\n",
       "    </tr>\n",
       "    <tr>\n",
       "      <th>std</th>\n",
       "      <td>7.787638e+06</td>\n",
       "      <td>0.031244</td>\n",
       "      <td>0.382660</td>\n",
       "      <td>0.403334</td>\n",
       "      <td>0.120560</td>\n",
       "    </tr>\n",
       "    <tr>\n",
       "      <th>min</th>\n",
       "      <td>5.110000e+02</td>\n",
       "      <td>0.000000</td>\n",
       "      <td>0.000000</td>\n",
       "      <td>0.000000</td>\n",
       "      <td>0.000000</td>\n",
       "    </tr>\n",
       "    <tr>\n",
       "      <th>25%</th>\n",
       "      <td>9.708410e+06</td>\n",
       "      <td>0.000000</td>\n",
       "      <td>0.000000</td>\n",
       "      <td>1.000000</td>\n",
       "      <td>0.000000</td>\n",
       "    </tr>\n",
       "    <tr>\n",
       "      <th>50%</th>\n",
       "      <td>1.870097e+07</td>\n",
       "      <td>0.000000</td>\n",
       "      <td>0.000000</td>\n",
       "      <td>1.000000</td>\n",
       "      <td>0.000000</td>\n",
       "    </tr>\n",
       "    <tr>\n",
       "      <th>75%</th>\n",
       "      <td>2.322906e+07</td>\n",
       "      <td>0.000000</td>\n",
       "      <td>0.000000</td>\n",
       "      <td>1.000000</td>\n",
       "      <td>0.000000</td>\n",
       "    </tr>\n",
       "    <tr>\n",
       "      <th>max</th>\n",
       "      <td>2.561919e+07</td>\n",
       "      <td>1.000000</td>\n",
       "      <td>1.000000</td>\n",
       "      <td>1.000000</td>\n",
       "      <td>4.000000</td>\n",
       "    </tr>\n",
       "  </tbody>\n",
       "</table>\n",
       "</div>"
      ],
      "text/plain": [
       "          ACCT_ID_M  ACQ_BROKER_EVER  ACQ_EXTERNAL_EVER  ACQ_INTERNAL_EVER  \\\n",
       "count  3.275000e+04     32750.000000       32750.000000       32750.000000   \n",
       "mean   1.627124e+07         0.000977           0.178168           0.795511   \n",
       "std    7.787638e+06         0.031244           0.382660           0.403334   \n",
       "min    5.110000e+02         0.000000           0.000000           0.000000   \n",
       "25%    9.708410e+06         0.000000           0.000000           1.000000   \n",
       "50%    1.870097e+07         0.000000           0.000000           1.000000   \n",
       "75%    2.322906e+07         0.000000           0.000000           1.000000   \n",
       "max    2.561919e+07         1.000000           1.000000           1.000000   \n",
       "\n",
       "       DEPT_Sales Chat  \n",
       "count      6226.000000  \n",
       "mean          0.009155  \n",
       "std           0.120560  \n",
       "min           0.000000  \n",
       "25%           0.000000  \n",
       "50%           0.000000  \n",
       "75%           0.000000  \n",
       "max           4.000000  "
      ]
     },
     "execution_count": 55,
     "metadata": {},
     "output_type": "execute_result"
    }
   ],
   "source": [
    "SignupSalesInfo.describe()"
   ]
  },
  {
   "cell_type": "code",
   "execution_count": 56,
   "id": "a3317448-1b76-4430-b899-179ca0d50683",
   "metadata": {},
   "outputs": [
    {
     "data": {
      "text/plain": [
       "(32750, 6)"
      ]
     },
     "execution_count": 56,
     "metadata": {},
     "output_type": "execute_result"
    }
   ],
   "source": [
    "SignupSalesInfo.shape"
   ]
  },
  {
   "cell_type": "code",
   "execution_count": 57,
   "id": "fa33d17e-b940-4833-8a47-5a33bdc65a3d",
   "metadata": {},
   "outputs": [
    {
     "name": "stdout",
     "output_type": "stream",
     "text": [
      "NBSC          10705\n",
      "ONLINETPU      7757\n",
      "DIGITAL        4375\n",
      "CIC_SAL        1686\n",
      "NEWCON         1492\n",
      "CST            1115\n",
      "NAV             683\n",
      "NBSCADMIN       429\n",
      "BEC             357\n",
      "DATACOM         312\n",
      "CONNECTNOW      201\n",
      "ONLINE          158\n",
      "CIC_SRV         131\n",
      "UNK              46\n",
      "AEGIS            10\n",
      "Name: OFFER_CHANNEL_CODE, dtype: int64\n"
     ]
    }
   ],
   "source": [
    "print(SignupSalesInfo['OFFER_CHANNEL_CODE'].value_counts())"
   ]
  },
  {
   "cell_type": "code",
   "execution_count": 58,
   "id": "38702530-6517-4baa-90f3-f65f986e0b1e",
   "metadata": {},
   "outputs": [
    {
     "name": "stdout",
     "output_type": "stream",
     "text": [
      "0.0    6182\n",
      "1.0      34\n",
      "2.0       8\n",
      "4.0       1\n",
      "3.0       1\n",
      "Name: DEPT_Sales Chat, dtype: int64\n"
     ]
    }
   ],
   "source": [
    "print(SignupSalesInfo['DEPT_Sales Chat'].value_counts())"
   ]
  },
  {
   "cell_type": "code",
   "execution_count": 59,
   "id": "dcedd634-e226-4e8b-865b-05429aa71203",
   "metadata": {},
   "outputs": [
    {
     "data": {
      "text/plain": [
       "ACCT_ID_M                 0\n",
       "OFFER_CHANNEL_CODE     3293\n",
       "ACQ_BROKER_EVER           0\n",
       "ACQ_EXTERNAL_EVER         0\n",
       "ACQ_INTERNAL_EVER         0\n",
       "DEPT_Sales Chat       26524\n",
       "dtype: int64"
      ]
     },
     "execution_count": 59,
     "metadata": {},
     "output_type": "execute_result"
    }
   ],
   "source": [
    "SignupSalesInfo.isna().sum()"
   ]
  },
  {
   "cell_type": "code",
   "execution_count": 60,
   "id": "c211ce20-70f7-45a7-8c29-c7f8ab229564",
   "metadata": {},
   "outputs": [
    {
     "name": "stdout",
     "output_type": "stream",
     "text": [
      "0\n"
     ]
    }
   ],
   "source": [
    "num_duplicates = len(SignupSalesInfo) - len(SignupSalesInfo.drop_duplicates())\n",
    "print(num_duplicates)"
   ]
  },
  {
   "cell_type": "code",
   "execution_count": 61,
   "id": "8e3d7007-d571-49a8-bc37-831778eeafde",
   "metadata": {},
   "outputs": [],
   "source": [
    "SignupSalesInfo['OFFER_CHANNEL_CODE'] = SignupSalesInfo['OFFER_CHANNEL_CODE'].fillna('NAN')"
   ]
  },
  {
   "cell_type": "code",
   "execution_count": 62,
   "id": "77dacf5a-3651-4923-93f6-ae3cbd774766",
   "metadata": {},
   "outputs": [
    {
     "data": {
      "text/plain": [
       "ACCT_ID_M                 0\n",
       "OFFER_CHANNEL_CODE        0\n",
       "ACQ_BROKER_EVER           0\n",
       "ACQ_EXTERNAL_EVER         0\n",
       "ACQ_INTERNAL_EVER         0\n",
       "DEPT_Sales Chat       26524\n",
       "dtype: int64"
      ]
     },
     "execution_count": 62,
     "metadata": {},
     "output_type": "execute_result"
    }
   ],
   "source": [
    "SignupSalesInfo.isna().sum()"
   ]
  },
  {
   "cell_type": "code",
   "execution_count": 63,
   "id": "45443ded-8f4b-4fd3-ae97-05ff665431b6",
   "metadata": {},
   "outputs": [
    {
     "data": {
      "text/plain": [
       "(32750, 6)"
      ]
     },
     "execution_count": 63,
     "metadata": {},
     "output_type": "execute_result"
    }
   ],
   "source": [
    "SignupSalesInfo.shape"
   ]
  },
  {
   "cell_type": "code",
   "execution_count": 64,
   "id": "ed1fb7c8-dd64-458e-a451-7fca549c07b8",
   "metadata": {},
   "outputs": [
    {
     "data": {
      "image/png": "[encoded data removed]",
      "text/plain": [
       "<Figure size 640x480 with 1 Axes>"
      ]
     },
     "metadata": {},
     "output_type": "display_data"
    }
   ],
   "source": [
    "ACQ_BROKER_EVER = SignupSalesInfo['ACQ_BROKER_EVER']\n",
    "ACQ_EXTERNAL_EVER = SignupSalesInfo['ACQ_EXTERNAL_EVER']\n",
    "ACQ_INTERNAL_EVER = SignupSalesInfo['ACQ_INTERNAL_EVER']\n",
    "DEPT_Sales_Chat = SignupSalesInfo['DEPT_Sales Chat']\n",
    "plt.boxplot([ACQ_BROKER_EVER, ACQ_EXTERNAL_EVER, ACQ_INTERNAL_EVER, DEPT_Sales_Chat])\n",
    "plt.xticks([1, 2, 3, 4], ['ACQ_BROKER_EVER', 'ACQ_EXTERNAL_EVER', 'ACQ_INTERNAL_EVER', 'DEPT_Sales_Chat'], rotation = 90)\n",
    "plt.ylabel('Number')\n",
    "plt.title('Box plot of signupsalesinfo')\n",
    "plt.show()"
   ]
  },
  {
   "cell_type": "code",
   "execution_count": 65,
   "id": "647ce7d0-5291-49ca-9e54-aeb94dff3a17",
   "metadata": {},
   "outputs": [
    {
     "data": {
      "text/html": [
       "<div>\n",
       "<style scoped>\n",
       "    .dataframe tbody tr th:only-of-type {\n",
       "        vertical-align: middle;\n",
       "    }\n",
       "\n",
       "    .dataframe tbody tr th {\n",
       "        vertical-align: top;\n",
       "    }\n",
       "\n",
       "    .dataframe thead th {\n",
       "        text-align: right;\n",
       "    }\n",
       "</style>\n",
       "<table border=\"1\" class=\"dataframe\">\n",
       "  <thead>\n",
       "    <tr style=\"text-align: right;\">\n",
       "      <th></th>\n",
       "      <th>Unnamed: 0</th>\n",
       "      <th>ACCT_ID_M</th>\n",
       "      <th>CVM_TOTAL_BILL_GROSS</th>\n",
       "      <th>CVM_AN_PERIOD_GM</th>\n",
       "      <th>CVM_REV_BILLED_DAYS</th>\n",
       "      <th>CVM_HOURS_WATCHED_TOTAL</th>\n",
       "      <th>CVM_SPORTS_HOURS_WATCHED_TOTAL</th>\n",
       "      <th>CVM_REV_LOYALTY_R_R_AMT</th>\n",
       "    </tr>\n",
       "  </thead>\n",
       "  <tbody>\n",
       "    <tr>\n",
       "      <th>0</th>\n",
       "      <td>1085553</td>\n",
       "      <td>22929283</td>\n",
       "      <td>NaN</td>\n",
       "      <td>NaN</td>\n",
       "      <td>NaN</td>\n",
       "      <td>NaN</td>\n",
       "      <td>NaN</td>\n",
       "      <td>NaN</td>\n",
       "    </tr>\n",
       "    <tr>\n",
       "      <th>1</th>\n",
       "      <td>199699</td>\n",
       "      <td>16923669</td>\n",
       "      <td>635.771967</td>\n",
       "      <td>38.51004</td>\n",
       "      <td>353.0</td>\n",
       "      <td>2484.545455</td>\n",
       "      <td>NaN</td>\n",
       "      <td>NaN</td>\n",
       "    </tr>\n",
       "    <tr>\n",
       "      <th>2</th>\n",
       "      <td>533407</td>\n",
       "      <td>25124129</td>\n",
       "      <td>NaN</td>\n",
       "      <td>NaN</td>\n",
       "      <td>NaN</td>\n",
       "      <td>NaN</td>\n",
       "      <td>NaN</td>\n",
       "      <td>NaN</td>\n",
       "    </tr>\n",
       "    <tr>\n",
       "      <th>3</th>\n",
       "      <td>334221</td>\n",
       "      <td>22430133</td>\n",
       "      <td>NaN</td>\n",
       "      <td>NaN</td>\n",
       "      <td>NaN</td>\n",
       "      <td>NaN</td>\n",
       "      <td>NaN</td>\n",
       "      <td>NaN</td>\n",
       "    </tr>\n",
       "    <tr>\n",
       "      <th>4</th>\n",
       "      <td>1529002</td>\n",
       "      <td>16775871</td>\n",
       "      <td>193.281667</td>\n",
       "      <td>115.97231</td>\n",
       "      <td>352.0</td>\n",
       "      <td>694.000000</td>\n",
       "      <td>NaN</td>\n",
       "      <td>NaN</td>\n",
       "    </tr>\n",
       "  </tbody>\n",
       "</table>\n",
       "</div>"
      ],
      "text/plain": [
       "   Unnamed: 0  ACCT_ID_M  CVM_TOTAL_BILL_GROSS  CVM_AN_PERIOD_GM  \\\n",
       "0     1085553   22929283                   NaN               NaN   \n",
       "1      199699   16923669            635.771967          38.51004   \n",
       "2      533407   25124129                   NaN               NaN   \n",
       "3      334221   22430133                   NaN               NaN   \n",
       "4     1529002   16775871            193.281667         115.97231   \n",
       "\n",
       "   CVM_REV_BILLED_DAYS  CVM_HOURS_WATCHED_TOTAL  \\\n",
       "0                  NaN                      NaN   \n",
       "1                353.0              2484.545455   \n",
       "2                  NaN                      NaN   \n",
       "3                  NaN                      NaN   \n",
       "4                352.0               694.000000   \n",
       "\n",
       "   CVM_SPORTS_HOURS_WATCHED_TOTAL  CVM_REV_LOYALTY_R_R_AMT  \n",
       "0                             NaN                      NaN  \n",
       "1                             NaN                      NaN  \n",
       "2                             NaN                      NaN  \n",
       "3                             NaN                      NaN  \n",
       "4                             NaN                      NaN  "
      ]
     },
     "execution_count": 65,
     "metadata": {},
     "output_type": "execute_result"
    }
   ],
   "source": [
    "ValueInfo = df=pd.read_csv('valueinfo.csv')\n",
    "df=pd.read_csv('valueinfo.csv')\n",
    "df.head()"
   ]
  },
  {
   "cell_type": "code",
   "execution_count": 66,
   "id": "48c81ead-eafa-442c-a82c-9614292eb054",
   "metadata": {},
   "outputs": [],
   "source": [
    "ValueInfo = ValueInfo.drop('Unnamed: 0', axis=1)\n",
    "ValueInfo= ValueInfo.drop('CVM_REV_LOYALTY_R_R_AMT', axis=1)\n",
    "ValueInfo = ValueInfo.drop('CVM_SPORTS_HOURS_WATCHED_TOTAL', axis=1)"
   ]
  },
  {
   "cell_type": "code",
   "execution_count": 67,
   "id": "4e072cad-da14-4fcd-aaa5-bdaadc99d01a",
   "metadata": {},
   "outputs": [
    {
     "name": "stdout",
     "output_type": "stream",
     "text": [
      "0\n"
     ]
    }
   ],
   "source": [
    "num_duplicates = len(ValueInfo) - len(ValueInfo.drop_duplicates())\n",
    "print(num_duplicates)"
   ]
  },
  {
   "cell_type": "code",
   "execution_count": 68,
   "id": "97d440b2-d43f-48f6-b2ff-156dc0bdb415",
   "metadata": {},
   "outputs": [
    {
     "data": {
      "text/plain": [
       "(50000, 5)"
      ]
     },
     "execution_count": 68,
     "metadata": {},
     "output_type": "execute_result"
    }
   ],
   "source": [
    "ValueInfo.shape"
   ]
  },
  {
   "cell_type": "code",
   "execution_count": 69,
   "id": "5c3ef56b-9bba-4b49-83d5-5e7465bbc21e",
   "metadata": {},
   "outputs": [
    {
     "data": {
      "text/html": [
       "<div>\n",
       "<style scoped>\n",
       "    .dataframe tbody tr th:only-of-type {\n",
       "        vertical-align: middle;\n",
       "    }\n",
       "\n",
       "    .dataframe tbody tr th {\n",
       "        vertical-align: top;\n",
       "    }\n",
       "\n",
       "    .dataframe thead th {\n",
       "        text-align: right;\n",
       "    }\n",
       "</style>\n",
       "<table border=\"1\" class=\"dataframe\">\n",
       "  <thead>\n",
       "    <tr style=\"text-align: right;\">\n",
       "      <th></th>\n",
       "      <th>ACCT_ID_M</th>\n",
       "      <th>CVM_TOTAL_BILL_GROSS</th>\n",
       "      <th>CVM_AN_PERIOD_GM</th>\n",
       "      <th>CVM_REV_BILLED_DAYS</th>\n",
       "      <th>CVM_HOURS_WATCHED_TOTAL</th>\n",
       "    </tr>\n",
       "  </thead>\n",
       "  <tbody>\n",
       "    <tr>\n",
       "      <th>count</th>\n",
       "      <td>5.000000e+04</td>\n",
       "      <td>34950.000000</td>\n",
       "      <td>34950.000000</td>\n",
       "      <td>34950.000000</td>\n",
       "      <td>34950.000000</td>\n",
       "    </tr>\n",
       "    <tr>\n",
       "      <th>mean</th>\n",
       "      <td>1.625436e+07</td>\n",
       "      <td>309.014422</td>\n",
       "      <td>105.035186</td>\n",
       "      <td>334.550558</td>\n",
       "      <td>3421.076371</td>\n",
       "    </tr>\n",
       "    <tr>\n",
       "      <th>std</th>\n",
       "      <td>7.788503e+06</td>\n",
       "      <td>355.409977</td>\n",
       "      <td>233.225832</td>\n",
       "      <td>61.804499</td>\n",
       "      <td>9936.214570</td>\n",
       "    </tr>\n",
       "    <tr>\n",
       "      <th>min</th>\n",
       "      <td>2.930000e+02</td>\n",
       "      <td>-112.676033</td>\n",
       "      <td>-5675.537880</td>\n",
       "      <td>35.000000</td>\n",
       "      <td>-1696.586945</td>\n",
       "    </tr>\n",
       "    <tr>\n",
       "      <th>25%</th>\n",
       "      <td>9.686709e+06</td>\n",
       "      <td>154.347717</td>\n",
       "      <td>56.895158</td>\n",
       "      <td>339.000000</td>\n",
       "      <td>645.500000</td>\n",
       "    </tr>\n",
       "    <tr>\n",
       "      <th>50%</th>\n",
       "      <td>1.866936e+07</td>\n",
       "      <td>241.816417</td>\n",
       "      <td>91.867825</td>\n",
       "      <td>354.000000</td>\n",
       "      <td>1226.000000</td>\n",
       "    </tr>\n",
       "    <tr>\n",
       "      <th>75%</th>\n",
       "      <td>2.322833e+07</td>\n",
       "      <td>363.349733</td>\n",
       "      <td>144.229990</td>\n",
       "      <td>365.000000</td>\n",
       "      <td>2970.363636</td>\n",
       "    </tr>\n",
       "    <tr>\n",
       "      <th>max</th>\n",
       "      <td>2.562478e+07</td>\n",
       "      <td>14268.660833</td>\n",
       "      <td>11317.058100</td>\n",
       "      <td>373.000000</td>\n",
       "      <td>601041.454545</td>\n",
       "    </tr>\n",
       "  </tbody>\n",
       "</table>\n",
       "</div>"
      ],
      "text/plain": [
       "          ACCT_ID_M  CVM_TOTAL_BILL_GROSS  CVM_AN_PERIOD_GM  \\\n",
       "count  5.000000e+04          34950.000000      34950.000000   \n",
       "mean   1.625436e+07            309.014422        105.035186   \n",
       "std    7.788503e+06            355.409977        233.225832   \n",
       "min    2.930000e+02           -112.676033      -5675.537880   \n",
       "25%    9.686709e+06            154.347717         56.895158   \n",
       "50%    1.866936e+07            241.816417         91.867825   \n",
       "75%    2.322833e+07            363.349733        144.229990   \n",
       "max    2.562478e+07          14268.660833      11317.058100   \n",
       "\n",
       "       CVM_REV_BILLED_DAYS  CVM_HOURS_WATCHED_TOTAL  \n",
       "count         34950.000000             34950.000000  \n",
       "mean            334.550558              3421.076371  \n",
       "std              61.804499              9936.214570  \n",
       "min              35.000000             -1696.586945  \n",
       "25%             339.000000               645.500000  \n",
       "50%             354.000000              1226.000000  \n",
       "75%             365.000000              2970.363636  \n",
       "max             373.000000            601041.454545  "
      ]
     },
     "execution_count": 69,
     "metadata": {},
     "output_type": "execute_result"
    }
   ],
   "source": [
    "ValueInfo.describe()"
   ]
  },
  {
   "cell_type": "code",
   "execution_count": 70,
   "id": "4b7ee0d2-0758-4603-b5b0-908d9be504e8",
   "metadata": {},
   "outputs": [
    {
     "data": {
      "text/plain": [
       "ACCT_ID_M                      0\n",
       "CVM_TOTAL_BILL_GROSS       15050\n",
       "CVM_AN_PERIOD_GM           15050\n",
       "CVM_REV_BILLED_DAYS        15050\n",
       "CVM_HOURS_WATCHED_TOTAL    15050\n",
       "dtype: int64"
      ]
     },
     "execution_count": 70,
     "metadata": {},
     "output_type": "execute_result"
    }
   ],
   "source": [
    "ValueInfo.isna().sum()"
   ]
  },
  {
   "cell_type": "code",
   "execution_count": 71,
   "id": "151e8984-6583-488a-a87c-bb8183f9ba93",
   "metadata": {},
   "outputs": [],
   "source": [
    "ValueInfo.dropna(subset=['CVM_TOTAL_BILL_GROSS'], inplace=True)"
   ]
  },
  {
   "cell_type": "code",
   "execution_count": 72,
   "id": "16cdb870-8721-4238-a434-60c525ce181c",
   "metadata": {},
   "outputs": [
    {
     "data": {
      "text/plain": [
       "ACCT_ID_M                  0\n",
       "CVM_TOTAL_BILL_GROSS       0\n",
       "CVM_AN_PERIOD_GM           0\n",
       "CVM_REV_BILLED_DAYS        0\n",
       "CVM_HOURS_WATCHED_TOTAL    0\n",
       "dtype: int64"
      ]
     },
     "execution_count": 72,
     "metadata": {},
     "output_type": "execute_result"
    }
   ],
   "source": [
    "ValueInfo.isna().sum()"
   ]
  },
  {
   "cell_type": "code",
   "execution_count": 73,
   "id": "d3c7dcc1-c8ab-4771-aeff-6071009a3c48",
   "metadata": {},
   "outputs": [
    {
     "name": "stdout",
     "output_type": "stream",
     "text": [
      "(34950, 5)\n"
     ]
    }
   ],
   "source": [
    "print(ValueInfo.shape)"
   ]
  },
  {
   "cell_type": "markdown",
   "id": "f527e661",
   "metadata": {},
   "source": [
    "## Database"
   ]
  },
  {
   "cell_type": "code",
   "execution_count": 74,
   "id": "c581f524",
   "metadata": {},
   "outputs": [
    {
     "name": "stdout",
     "output_type": "stream",
     "text": [
      "   ACCT_ID_M STREAMING_SERVICE   ACCT_TYPE   SERVICE_TYPE  CONT_TENURE_MTHS  \\\n",
      "0   22929283           NETFLIX  INDIVIDUAL         SPORTS                21   \n",
      "1   16923669           NETFLIX  INDIVIDUAL         SPORTS                67   \n",
      "2   25124129           NETFLIX  INDIVIDUAL  ENTERTAINMENT                 1   \n",
      "3   22430133              STAN  INDIVIDUAL  ENTERTAINMENT                25   \n",
      "4   16775871           NETFLIX  INDIVIDUAL         SPORTS               110   \n",
      "\n",
      "   NUM_CUSTOMER_BILLABLE_ACCOUNTS  CONSUME_SPORTS_SUBSIDISED  \\\n",
      "0                               3                          0   \n",
      "1                               1                          0   \n",
      "2                               2                          0   \n",
      "3                               2                          0   \n",
      "4                               1                          0   \n",
      "\n",
      "   TOTAL_DISCOUNT_PERCENT  \n",
      "0                       0  \n",
      "1                      30  \n",
      "2                       0  \n",
      "3                      13  \n",
      "4                       0  \n"
     ]
    }
   ],
   "source": [
    "engine = create_engine('sqlite:///StreamingAnalysis.db')\n",
    "\n",
    "BasicAccInfo.to_sql('BasicAccInfo', engine, if_exists='replace', index=False)\n",
    "ChurnInfo.to_sql('ChurnInfo', engine, if_exists='replace', index=False)\n",
    "InteractionInfo.to_sql('InteractionInfo', engine, if_exists='replace', index=False)\n",
    "PaymentInfo.to_sql('PaymentInfo', engine, if_exists='replace', index=False)\n",
    "PremiseInfo.to_sql('PremiseInfo', engine, if_exists='replace', index=False)\n",
    "SignupSalesInfo.to_sql('SignupSalesInfo', engine, if_exists='replace', index=False)\n",
    "ValueInfo.to_sql('ValueInfo', engine, if_exists='replace', index=False)\n",
    "\n",
    "with engine.connect() as connection:\n",
    "    connection.execute(text('''\n",
    "        CREATE TABLE IF NOT EXISTS ChurnInfo (\n",
    "            ACC_ID_M INTEGER PRIMARY KEY,\n",
    "            FOREIGN KEY (ACC_ID_M) REFERENCES BasicAccInfo(ACC_ID_M)\n",
    "        )\n",
    "    '''))\n",
    "    \n",
    "    connection.execute(text('''\n",
    "        CREATE TABLE IF NOT EXISTS InteractionInfo (\n",
    "            ACC_ID_M INTEGER PRIMARY KEY,\n",
    "            FOREIGN KEY (ACC_ID_M) REFERENCES BasicAccInfo(ACC_ID_M)\n",
    "        )\n",
    "    '''))\n",
    "    \n",
    "    connection.execute(text('''\n",
    "        CREATE TABLE IF NOT EXISTS PaymentInfo (\n",
    "            ACC_ID_M INTEGER PRIMARY KEY,\n",
    "            FOREIGN KEY (ACC_ID_M) REFERENCES BasicAccInfo(ACC_ID_M)\n",
    "        )\n",
    "    '''))\n",
    "    \n",
    "    connection.execute(text('''\n",
    "        CREATE TABLE IF NOT EXISTS PremiseInfo (\n",
    "            ACC_ID_M INTEGER PRIMARY KEY,\n",
    "            FOREIGN KEY (ACC_ID_M) REFERENCES BasicAccInfo(ACC_ID_M)\n",
    "        )\n",
    "    '''))\n",
    "    \n",
    "    connection.execute(text('''\n",
    "        CREATE TABLE IF NOT EXISTS SignupSalesInfo (\n",
    "            ACC_ID_M INTEGER PRIMARY KEY,\n",
    "            FOREIGN KEY (ACC_ID_M) REFERENCES BasicAccInfo(ACC_ID_M)\n",
    "        )\n",
    "    '''))\n",
    "    \n",
    "    connection.execute(text('''\n",
    "        CREATE TABLE IF NOT EXISTS ValueInfo (\n",
    "            ACC_ID_M INTEGER PRIMARY KEY,\n",
    "            FOREIGN KEY (ACC_ID_M) REFERENCES BasicAccInfo(ACC_ID_M)\n",
    "        )\n",
    "    '''))\n",
    "    \n",
    "    result = connection.execute(text('SELECT * FROM BasicAccInfo'))\n",
    "    data = result.fetchall()\n",
    "    df = pd.DataFrame(data, columns=result.keys())\n",
    "    print(df.head())"
   ]
  },
  {
   "cell_type": "markdown",
   "id": "22c246b4",
   "metadata": {},
   "source": [
    "## Analysis"
   ]
  },
  {
   "cell_type": "markdown",
   "id": "0a97fc92-1735-47e1-af64-1faec64b9dd1",
   "metadata": {},
   "source": [
    "### Customer Retention Analysis"
   ]
  },
  {
   "cell_type": "code",
   "execution_count": 75,
   "id": "d9e2c92d",
   "metadata": {},
   "outputs": [
    {
     "name": "stdout",
     "output_type": "stream",
     "text": [
      "Number of churned customers: 395\n"
     ]
    }
   ],
   "source": [
    "engine = create_engine('sqlite:///StreamingAnalysis.db')\n",
    "\n",
    "connection = engine.connect()\n",
    "\n",
    "churn_sql = text('SELECT COUNT(DISTINCT ACCT_ID_M) as churned_customers FROM ChurnInfo WHERE CHURNED = \"1\"')\n",
    "non_churn_sql = text('SELECT COUNT(DISTINCT ACCT_ID_M) as churned_customers FROM ChurnInfo WHERE CHURNED = \"0\"')\n",
    "churn30_sql = text('SELECT COUNT(DISTINCT ACCT_ID_M) as churned30_customers FROM ChurnInfo WHERE CHURNED_30 = \"1\"')\n",
    "churn90_sql = text('SELECT COUNT(DISTINCT ACCT_ID_M) as churned90_customers FROM ChurnInfo WHERE CHURNED_90 = \"1\"')\n",
    "retention_sql = text('SELECT STREAMING_SERVICE, COUNT(DISTINCT BasicAccInfo.ACCT_ID_M) as retained_customers FROM BasicAccInfo JOIN ChurnInfo ON BasicAccInfo.ACCT_ID_M = ChurnInfo.ACCT_ID_M WHERE CHURNED = \"1\" GROUP BY STREAMING_SERVICE')\n",
    "non_retention_sql = text('SELECT STREAMING_SERVICE, COUNT(DISTINCT BasicAccInfo.ACCT_ID_M) as retained_customers FROM BasicAccInfo JOIN ChurnInfo ON BasicAccInfo.ACCT_ID_M = ChurnInfo.ACCT_ID_M WHERE CHURNED = \"0\" GROUP BY STREAMING_SERVICE')\n",
    "retention30_sql = text('SELECT STREAMING_SERVICE, COUNT(DISTINCT BasicAccInfo.ACCT_ID_M) as retained_customers FROM BasicAccInfo JOIN ChurnInfo ON BasicAccInfo.ACCT_ID_M = ChurnInfo.ACCT_ID_M WHERE CHURNED_30 = \"1\" GROUP BY STREAMING_SERVICE')\n",
    "retention90_sql = text('SELECT STREAMING_SERVICE, COUNT(DISTINCT BasicAccInfo.ACCT_ID_M) as retained_customers FROM BasicAccInfo JOIN ChurnInfo ON BasicAccInfo.ACCT_ID_M = ChurnInfo.ACCT_ID_M WHERE CHURNED_90 = \"1\" GROUP BY STREAMING_SERVICE')\n",
    "interaction_sql = text('SELECT BasicAccInfo.STREAMING_SERVICE, \\\n",
    "                               SUM(CASE WHEN InteractionInfo.DEPT_Retention_Inbound IS NOT NULL THEN 1 ELSE 0 END) as retention_inbound_interactions, \\\n",
    "                               SUM(CASE WHEN InteractionInfo.DEPT_Retention_Outbound IS NOT NULL THEN 1 ELSE 0 END) as retention_outbound_interactions \\\n",
    "                        FROM BasicAccInfo \\\n",
    "                        JOIN ChurnInfo ON BasicAccInfo.ACCT_ID_M = ChurnInfo.ACCT_ID_M \\\n",
    "                        JOIN InteractionInfo ON BasicAccInfo.ACCT_ID_M = InteractionInfo.ACCT_ID_M \\\n",
    "                        GROUP BY BasicAccInfo.STREAMING_SERVICE')\n",
    "\n",
    "churn_df = pd.read_sql(churn_sql, connection)\n",
    "non_churn_df = pd.read_sql(non_churn_sql, connection)\n",
    "churn30_df = pd.read_sql(churn30_sql, connection)\n",
    "churn90_df = pd.read_sql(churn90_sql, connection)\n",
    "retention_df = pd.read_sql(retention_sql, connection)\n",
    "non_retention_df = pd.read_sql(non_retention_sql, connection)\n",
    "retention30_df = pd.read_sql(retention30_sql, connection)\n",
    "retention90_df = pd.read_sql(retention90_sql, connection)\n",
    "interaction_df = pd.read_sql(interaction_sql, connection)\n",
    "\n",
    "connection.close()\n",
    "\n",
    "print(\"Number of churned customers:\", churn_df.iloc[0]['churned_customers'])"
   ]
  },
  {
   "cell_type": "code",
   "execution_count": 76,
   "id": "12d02e0d",
   "metadata": {},
   "outputs": [
    {
     "name": "stdout",
     "output_type": "stream",
     "text": [
      "Number of non-churned customers days: 47605\n"
     ]
    }
   ],
   "source": [
    "print(\"Number of non-churned customers days:\", non_churn_df.iloc[0]['churned_customers'])"
   ]
  },
  {
   "cell_type": "code",
   "execution_count": 77,
   "id": "735b4f5d",
   "metadata": {},
   "outputs": [
    {
     "name": "stdout",
     "output_type": "stream",
     "text": [
      "Number of churned customers in last 30 days: 18\n"
     ]
    }
   ],
   "source": [
    "print(\"Number of churned customers in last 30 days:\", churn30_df.iloc[0]['churned30_customers'])"
   ]
  },
  {
   "cell_type": "code",
   "execution_count": 78,
   "id": "1b642da6",
   "metadata": {},
   "outputs": [
    {
     "name": "stdout",
     "output_type": "stream",
     "text": [
      "Number of churned customers in last 90 days: 395\n"
     ]
    }
   ],
   "source": [
    "print(\"Number of churned customers in last 90 days:\", churn90_df.iloc[0]['churned90_customers'])"
   ]
  },
  {
   "cell_type": "code",
   "execution_count": 79,
   "id": "207b5c7a",
   "metadata": {},
   "outputs": [
    {
     "name": "stdout",
     "output_type": "stream",
     "text": [
      "  STREAMING_SERVICE  retained_customers\n",
      "0      AMAZON PRIME                  24\n",
      "1            DISNEY                  19\n",
      "2           NETFLIX                 198\n",
      "3         PARAMOUNT                   6\n",
      "4              STAN                 147\n"
     ]
    }
   ],
   "source": [
    "print(retention_df)"
   ]
  },
  {
   "cell_type": "code",
   "execution_count": 80,
   "id": "9ae9130d",
   "metadata": {},
   "outputs": [
    {
     "name": "stdout",
     "output_type": "stream",
     "text": [
      "  STREAMING_SERVICE  retained_customers\n",
      "0      AMAZON PRIME                1925\n",
      "1            DISNEY                2141\n",
      "2           NETFLIX               26017\n",
      "3         PARAMOUNT                 357\n",
      "4              STAN               17160\n"
     ]
    }
   ],
   "source": [
    "print(non_retention_df)"
   ]
  },
  {
   "cell_type": "code",
   "execution_count": 81,
   "id": "c53fc7eb",
   "metadata": {},
   "outputs": [
    {
     "name": "stdout",
     "output_type": "stream",
     "text": [
      "  STREAMING_SERVICE  retained_customers\n",
      "0           NETFLIX                  10\n",
      "1              STAN                   8\n"
     ]
    }
   ],
   "source": [
    "print(retention30_df)"
   ]
  },
  {
   "cell_type": "code",
   "execution_count": 82,
   "id": "689afb77",
   "metadata": {},
   "outputs": [
    {
     "name": "stdout",
     "output_type": "stream",
     "text": [
      "  STREAMING_SERVICE  retained_customers\n",
      "0      AMAZON PRIME                  24\n",
      "1            DISNEY                  19\n",
      "2           NETFLIX                 198\n",
      "3         PARAMOUNT                   6\n",
      "4              STAN                 147\n"
     ]
    }
   ],
   "source": [
    "print(retention90_df)"
   ]
  },
  {
   "cell_type": "code",
   "execution_count": 83,
   "id": "4979ffc7",
   "metadata": {
    "scrolled": true
   },
   "outputs": [
    {
     "name": "stdout",
     "output_type": "stream",
     "text": [
      "  STREAMING_SERVICE  retention_inbound_interactions  \\\n",
      "0      AMAZON PRIME                             359   \n",
      "1            DISNEY                             512   \n",
      "2           NETFLIX                            4558   \n",
      "3         PARAMOUNT                              61   \n",
      "4              STAN                            2667   \n",
      "\n",
      "   retention_outbound_interactions  \n",
      "0                              359  \n",
      "1                              512  \n",
      "2                             4558  \n",
      "3                               61  \n",
      "4                             2667  \n"
     ]
    }
   ],
   "source": [
    "print(interaction_df)"
   ]
  },
  {
   "cell_type": "code",
   "execution_count": 84,
   "id": "764c6549",
   "metadata": {},
   "outputs": [
    {
     "name": "stdout",
     "output_type": "stream",
     "text": [
      "  STREAMING_SERVICE  retained_customers  total_customers  retention_rate\n",
      "0      AMAZON PRIME                1925             2031       94.780896\n",
      "1            DISNEY                2141             2268       94.400353\n",
      "2           NETFLIX               26017            27304       95.286405\n",
      "3         PARAMOUNT                 357              381       93.700787\n",
      "4              STAN               17160            18010       95.280400\n"
     ]
    }
   ],
   "source": [
    "engine = create_engine('sqlite:///StreamingAnalysis.db')\n",
    "connection = engine.connect()\n",
    "\n",
    "merged_data_sql = text('''\n",
    "    SELECT\n",
    "        b.ACCT_ID_M,\n",
    "        b.STREAMING_SERVICE,\n",
    "        c.CHURNED\n",
    "    FROM BasicAccInfo b\n",
    "    LEFT JOIN ChurnInfo c ON b.ACCT_ID_M = c.ACCT_ID_M\n",
    "''')\n",
    "merged_data_df = pd.read_sql_query(merged_data_sql, connection)\n",
    "merged_data_df.to_sql('merged_data_temp', connection, if_exists='replace', index=False)\n",
    "\n",
    "churn_summary_sql = text('''\n",
    "    SELECT\n",
    "        STREAMING_SERVICE,\n",
    "        COUNT(*) AS total_customers,\n",
    "        SUM(CASE WHEN CHURNED = 0 THEN 1 ELSE 0 END) AS retained_customers\n",
    "    FROM merged_data_temp\n",
    "    GROUP BY STREAMING_SERVICE\n",
    "''')\n",
    "churn_summary_df = pd.read_sql_query(churn_summary_sql, connection)\n",
    "\n",
    "retention_rate_sql = text('''\n",
    "    SELECT\n",
    "        STREAMING_SERVICE,\n",
    "        SUM(CASE WHEN CHURNED = 0 THEN 1 ELSE 0 END) AS retained_customers,\n",
    "        COUNT(*) AS total_customers,\n",
    "        (SUM(CASE WHEN CHURNED = 0 THEN 1 ELSE 0 END) * 1.0 / COUNT(*)) * 100 AS retention_rate\n",
    "    FROM merged_data_temp\n",
    "    GROUP BY STREAMING_SERVICE\n",
    "''')\n",
    "retention_rate_df = pd.read_sql_query(retention_rate_sql, connection)\n",
    "\n",
    "connection.close()\n",
    "\n",
    "print(retention_rate_df)"
   ]
  },
  {
   "cell_type": "code",
   "execution_count": 85,
   "id": "acb5f768",
   "metadata": {},
   "outputs": [
    {
     "data": {
      "image/png": "[encoded data removed]",
      "text/plain": [
       "<Figure size 640x480 with 1 Axes>"
      ]
     },
     "metadata": {},
     "output_type": "display_data"
    }
   ],
   "source": [
    "import matplotlib.pyplot as plt\n",
    "\n",
    "plt.bar(retention_rate_df['STREAMING_SERVICE'], retention_rate_df['retention_rate'])\n",
    "plt.title('Retention Rate by Streaming Service')\n",
    "plt.xlabel('Streaming Service')\n",
    "plt.ylabel('Retention Rate (%)')\n",
    "plt.xticks(rotation=45)\n",
    "plt.show()"
   ]
  },
  {
   "cell_type": "markdown",
   "id": "61f602fb",
   "metadata": {},
   "source": [
    "### Customer profitability"
   ]
  },
  {
   "cell_type": "code",
   "execution_count": 86,
   "id": "90ea2e23",
   "metadata": {},
   "outputs": [
    {
     "name": "stdout",
     "output_type": "stream",
     "text": [
      "       ACCT_ID_M   SERVICE_TYPE b.STREAMING_SERVICE  CONT_TENURE_MTHS  \\\n",
      "0       16923669         SPORTS             NETFLIX                67   \n",
      "1       16775871         SPORTS             NETFLIX               110   \n",
      "2       19428623  ENTERTAINMENT             NETFLIX                49   \n",
      "3       22329655         SPORTS                STAN                25   \n",
      "4       22043987         SPORTS             NETFLIX                28   \n",
      "...          ...            ...                 ...               ...   \n",
      "34945    8702147  ENTERTAINMENT                STAN               147   \n",
      "34946    3588567         SPORTS              DISNEY                69   \n",
      "34947   15171859         SPORTS        AMAZON PRIME               141   \n",
      "34948   22512663         SPORTS             NETFLIX                24   \n",
      "34949    4314363         SPORTS             NETFLIX               110   \n",
      "\n",
      "       NUM_CUSTOMER_BILLABLE_ACCOUNTS  CONSUME_SPORTS_SUBSIDISED  \\\n",
      "0                                   1                          0   \n",
      "1                                   1                          0   \n",
      "2                                   2                          0   \n",
      "3                                   2                          0   \n",
      "4                                   2                          0   \n",
      "...                               ...                        ...   \n",
      "34945                               2                          0   \n",
      "34946                               1                          1   \n",
      "34947                               2                          0   \n",
      "34948                               1                          0   \n",
      "34949                               2                          0   \n",
      "\n",
      "       TOTAL_DISCOUNT_PERCENT  CVM_TOTAL_BILL_GROSS  CVM_AN_PERIOD_GM  \\\n",
      "0                          30            635.771967         38.510040   \n",
      "1                           0            193.281667        115.972310   \n",
      "2                          29            125.048233         62.111375   \n",
      "3                          11            306.507583         55.353200   \n",
      "4                           0            203.651667         80.302010   \n",
      "...                       ...                   ...               ...   \n",
      "34945                      22            301.557133         28.694010   \n",
      "34946                      15            412.270900       -332.695050   \n",
      "34947                       0            304.916117        224.700140   \n",
      "34948                       0            188.234617         88.104388   \n",
      "34949                       0             87.832867         91.325090   \n",
      "\n",
      "       CVM_REV_BILLED_DAYS  CVM_HOURS_WATCHED_TOTAL  PROFITABILITY  \n",
      "0                    353.0              2484.545455     635.771967  \n",
      "1                    352.0               694.000000     193.281667  \n",
      "2                    339.0              2926.727273     125.048233  \n",
      "3                     90.0               933.636364     306.507583  \n",
      "4                    199.0               736.181818     203.651667  \n",
      "...                    ...                      ...            ...  \n",
      "34945                348.0             14795.272727     301.557133  \n",
      "34946                366.0              1517.272727     412.270900  \n",
      "34947                333.0               647.636364     304.916117  \n",
      "34948                 53.0               802.727273     188.234617  \n",
      "34949                347.0               165.454545      87.832867  \n",
      "\n",
      "[34950 rows x 12 columns]\n"
     ]
    }
   ],
   "source": [
    "engine = create_engine('sqlite:///StreamingAnalysis.db')\n",
    "\n",
    "connection = engine.connect()\n",
    "\n",
    "query = '''\n",
    "    SELECT b.ACCT_ID_M, \n",
    "           b.SERVICE_TYPE, \n",
    "           b.STREAMING_SERVICE,\n",
    "           b.CONT_TENURE_MTHS, \n",
    "           b.NUM_CUSTOMER_BILLABLE_ACCOUNTS, \n",
    "           b.CONSUME_SPORTS_SUBSIDISED, \n",
    "           b.TOTAL_DISCOUNT_PERCENT,\n",
    "           v.CVM_TOTAL_BILL_GROSS,\n",
    "           v.CVM_AN_PERIOD_GM, \n",
    "           v.CVM_REV_BILLED_DAYS, \n",
    "           v.CVM_HOURS_WATCHED_TOTAL,\n",
    "           (v.CVM_TOTAL_BILL_GROSS * (1 - b.TOTAL_DISCOUNT_PERCENT / 100)) AS PROFITABILITY\n",
    "    FROM BasicAccInfo b\n",
    "    JOIN ValueInfo v\n",
    "    ON b.ACCT_ID_M = v.ACCT_ID_M\n",
    "'''\n",
    "\n",
    "with engine.connect() as connection:\n",
    "    result = connection.execute(text(query))\n",
    "\n",
    "columns = ['ACCT_ID_M', 'SERVICE_TYPE', 'b.STREAMING_SERVICE', 'CONT_TENURE_MTHS', 'NUM_CUSTOMER_BILLABLE_ACCOUNTS', 'CONSUME_SPORTS_SUBSIDISED', 'TOTAL_DISCOUNT_PERCENT', 'CVM_TOTAL_BILL_GROSS', 'CVM_AN_PERIOD_GM', 'CVM_REV_BILLED_DAYS', 'CVM_HOURS_WATCHED_TOTAL', 'PROFITABILITY']\n",
    "profitability_df = pd.DataFrame(result, columns = columns)\n",
    "\n",
    "print(profitability_df)\n"
   ]
  },
  {
   "cell_type": "code",
   "execution_count": 87,
   "id": "896fb3fb",
   "metadata": {},
   "outputs": [
    {
     "name": "stdout",
     "output_type": "stream",
     "text": [
      "Average Profitability: 309.01\n",
      "Standard Deviation of Profitability: 355.41\n"
     ]
    }
   ],
   "source": [
    "average_profitability = profitability_df['PROFITABILITY'].mean()\n",
    "std_dev_profitability = profitability_df['PROFITABILITY'].std()\n",
    "\n",
    "print(f\"Average Profitability: {average_profitability:.2f}\")\n",
    "print(f\"Standard Deviation of Profitability: {std_dev_profitability:.2f}\")"
   ]
  },
  {
   "cell_type": "code",
   "execution_count": 88,
   "id": "b1ffefa2",
   "metadata": {},
   "outputs": [
    {
     "name": "stdout",
     "output_type": "stream",
     "text": [
      "     CONT_TENURE_MTHS  AVG_PROFITABILITY  STD_PROFITABILITY\n",
      "0                  20         296.314667         199.086174\n",
      "1                  21         149.254067         102.299727\n",
      "2                  22         200.267497         229.854024\n",
      "3                  23         220.052728         251.588916\n",
      "4                  24         249.260062         297.738770\n",
      "..                ...                ...                ...\n",
      "125               145         313.656834         215.370982\n",
      "126               146         325.475469         325.588344\n",
      "127               147         321.669442         329.855733\n",
      "128               148         306.913460         280.661365\n",
      "129               170         485.736917                NaN\n",
      "\n",
      "[130 rows x 3 columns]\n"
     ]
    }
   ],
   "source": [
    "segmented_profitability = profitability_df.groupby('CONT_TENURE_MTHS')['PROFITABILITY'].agg(['mean', 'std'])\n",
    "segmented_profitability.reset_index(inplace=True)\n",
    "segmented_profitability.columns = ['CONT_TENURE_MTHS', 'AVG_PROFITABILITY', 'STD_PROFITABILITY']\n",
    "\n",
    "print(segmented_profitability)"
   ]
  },
  {
   "cell_type": "code",
   "execution_count": 89,
   "id": "b487d70e",
   "metadata": {},
   "outputs": [
    {
     "name": "stdout",
     "output_type": "stream",
     "text": [
      "    SERVICE_TYPE  AVG_PROFITABILITY  STD_PROFITABILITY\n",
      "0  ENTERTAINMENT         221.544868         338.133357\n",
      "1         SPORTS         352.963529         355.760941\n"
     ]
    }
   ],
   "source": [
    "segmented_profitability = profitability_df.groupby('SERVICE_TYPE')['PROFITABILITY'].agg(['mean', 'std'])\n",
    "segmented_profitability.reset_index(inplace=True)\n",
    "segmented_profitability.columns = ['SERVICE_TYPE', 'AVG_PROFITABILITY', 'STD_PROFITABILITY']\n",
    "\n",
    "print(segmented_profitability)"
   ]
  },
  {
   "cell_type": "code",
   "execution_count": 90,
   "id": "3a613d41",
   "metadata": {},
   "outputs": [],
   "source": [
    "query = '''\n",
    "    SELECT b.ACCT_ID_M, \n",
    "           b.STREAMING_SERVICE,\n",
    "           b.TOTAL_DISCOUNT_PERCENT,\n",
    "           v.CVM_TOTAL_BILL_GROSS,\n",
    "           (v.CVM_TOTAL_BILL_GROSS * (1 - b.TOTAL_DISCOUNT_PERCENT / 100)) AS PROFITABILITY\n",
    "    FROM BasicAccInfo b\n",
    "    JOIN ValueInfo v\n",
    "    ON b.ACCT_ID_M = v.ACCT_ID_M\n",
    "'''\n",
    "\n",
    "with engine.connect() as connection:\n",
    "    result = connection.execute(text(query))\n",
    "\n",
    "columns = ['ACCT_ID_M', 'STREAMING_SERVICE', 'TOTAL_DISCOUNT_PERCENT', 'CVM_TOTAL_BILL_GROSS', 'PROFITABILITY']\n",
    "profitability_df = pd.DataFrame(result, columns=columns)"
   ]
  },
  {
   "cell_type": "code",
   "execution_count": 91,
   "id": "833a52c1",
   "metadata": {},
   "outputs": [
    {
     "name": "stdout",
     "output_type": "stream",
     "text": [
      "  STREAMING_SERVICE  AVG_PROFITABILITY  STD_PROFITABILITY\n",
      "0      AMAZON PRIME         286.412304         288.971612\n",
      "1            DISNEY         355.794543         294.821723\n",
      "2           NETFLIX         302.505289         373.430059\n",
      "3              STAN         316.385618         339.452211\n"
     ]
    }
   ],
   "source": [
    "segmented_profitability = profitability_df.groupby('STREAMING_SERVICE')['PROFITABILITY'].agg(['mean', 'std'])\n",
    "segmented_profitability.reset_index(inplace=True)\n",
    "segmented_profitability.columns = ['STREAMING_SERVICE', 'AVG_PROFITABILITY', 'STD_PROFITABILITY']\n",
    "\n",
    "print(segmented_profitability)"
   ]
  },
  {
   "cell_type": "code",
   "execution_count": 92,
   "id": "534af6dc",
   "metadata": {},
   "outputs": [
    {
     "name": "stdout",
     "output_type": "stream",
     "text": [
      "['NETFLIX' 'STAN' 'PARAMOUNT' 'DISNEY' 'AMAZON PRIME']\n"
     ]
    }
   ],
   "source": [
    "services = BasicAccInfo['STREAMING_SERVICE'].unique()\n",
    "\n",
    "print(services)"
   ]
  },
  {
   "cell_type": "markdown",
   "id": "679bdf11",
   "metadata": {},
   "source": [
    "#### Profitablity Correlation Matrix "
   ]
  },
  {
   "cell_type": "code",
   "execution_count": 93,
   "id": "d4e25cd5",
   "metadata": {},
   "outputs": [
    {
     "name": "stdout",
     "output_type": "stream",
     "text": [
      "profitability                     1.000000\n",
      "CVM_TOTAL_BILL_GROSS              0.980639\n",
      "CVM_HOURS_WATCHED_TOTAL           0.510651\n",
      "CVM_AN_PERIOD_GM                  0.469920\n",
      "NUM_CUSTOMER_BILLABLE_ACCOUNTS    0.097910\n",
      "CONSUME_SPORTS_SUBSIDISED         0.072928\n",
      "CHANNEL_PAY_BPAY_12M              0.066678\n",
      "CVM_REV_BILLED_DAYS               0.053314\n",
      "CONT_TENURE_MTHS                  0.041879\n",
      "ACQ_BROKER_EVER                   0.013471\n",
      "CHANNEL_PAY_DD_SAVING_12M         0.012628\n",
      "ACQ_EXTERNAL_EVER                 0.012604\n",
      "DEPT_Retention_Inbound            0.011642\n",
      "CHURNED_90                        0.006187\n",
      "CHURNED                           0.006187\n",
      "PREMISE_POSTCODE                  0.001286\n",
      "CHURNED_30                       -0.001180\n",
      "NUM_PAYMENT_CHALLENGED_6M        -0.002977\n",
      "DEPT_Sales Chat                  -0.003247\n",
      "CHANNEL_PAY_BPOINT_12M           -0.008229\n",
      "CHANNEL_PAY_DD_CREDIT_12M        -0.009865\n",
      "DEPT_Retention_Outbound          -0.015943\n",
      "ACQ_INTERNAL_EVER                -0.021006\n",
      "DIRECT_DEBIT_FLAG                -0.027155\n",
      "ACCT_ID_M                        -0.036204\n",
      "CHANNEL_PAY_APOST_12M            -0.042470\n",
      "TOTAL_DISCOUNT_PERCENT           -0.076535\n",
      "NUM_REFUNDS_3M                         NaN\n",
      "Name: profitability, dtype: float64\n"
     ]
    },
    {
     "name": "stderr",
     "output_type": "stream",
     "text": [
      "C:\\Users\\Lewis McArthur\\AppData\\Local\\Temp\\ipykernel_564\\3029101922.py:24: FutureWarning:\n",
      "\n",
      "The default value of numeric_only in DataFrame.corr is deprecated. In a future version, it will default to False. Select only valid columns or specify the value of numeric_only to silence this warning.\n",
      "\n"
     ]
    }
   ],
   "source": [
    "conn = sqlite3.connect('StreamingAnalysis.db')\n",
    "\n",
    "BasicAccInfo = pd.read_sql_query(\"SELECT * FROM BasicAccInfo\", conn)\n",
    "ChurnInfo = pd.read_sql_query(\"SELECT * FROM ChurnInfo\", conn)\n",
    "InteractionInfo = pd.read_sql_query(\"SELECT * FROM InteractionInfo\", conn)\n",
    "PaymentInfo = pd.read_sql_query(\"SELECT * FROM PaymentInfo\", conn)\n",
    "PremiseInfo = pd.read_sql_query(\"SELECT * FROM PremiseInfo\", conn)\n",
    "SignupSalesInfo = pd.read_sql_query(\"SELECT * FROM SignupSalesInfo\", conn)\n",
    "ValueInfo = pd.read_sql_query(\"SELECT * FROM ValueInfo\", conn)\n",
    "\n",
    "conn.close()\n",
    "\n",
    "merged_df = (\n",
    "    BasicAccInfo\n",
    "    .merge(ChurnInfo, on=\"ACCT_ID_M\", how=\"left\")\n",
    "    .merge(InteractionInfo, on=\"ACCT_ID_M\", how=\"left\")\n",
    "    .merge(PaymentInfo, on=\"ACCT_ID_M\", how=\"left\")\n",
    "    .merge(PremiseInfo, on=\"ACCT_ID_M\", how=\"left\")\n",
    "    .merge(SignupSalesInfo, on=\"ACCT_ID_M\", how=\"left\")\n",
    "    .merge(ValueInfo, on=\"ACCT_ID_M\", how=\"left\")\n",
    ")\n",
    "\n",
    "merged_df['profitability'] = merged_df['CVM_TOTAL_BILL_GROSS'] * (1 - merged_df['TOTAL_DISCOUNT_PERCENT'] / 100)\n",
    "correlation_matrix = merged_df.corr()\n",
    "profitability_correlation = correlation_matrix['profitability']\n",
    "sorted_profitability_correlation = profitability_correlation.sort_values(ascending=False)\n",
    "\n",
    "print(sorted_profitability_correlation)"
   ]
  },
  {
   "cell_type": "code",
   "execution_count": 94,
   "id": "51824d6f",
   "metadata": {},
   "outputs": [
    {
     "data": {
      "image/png": "[encoded data removed]",
      "text/plain": [
       "<Figure size 1600x1400 with 2 Axes>"
      ]
     },
     "metadata": {},
     "output_type": "display_data"
    }
   ],
   "source": [
    "corr_matrix = merged_df.corr(numeric_only=True)\n",
    "plt.figure(figsize=(16, 14))\n",
    "sns.set(font_scale=0.8)\n",
    "heatmap = sns.heatmap(corr_matrix, annot=True, cmap=\"coolwarm\", linewidths=0.5, fmt=\".2f\")\n",
    "plt.xticks(rotation=45, ha=\"right\")\n",
    "plt.title(\"Correlation Heatmap\")\n",
    "plt.show()"
   ]
  },
  {
   "cell_type": "markdown",
   "id": "7043ffc3",
   "metadata": {},
   "source": [
    "## Insights |"
   ]
  },
  {
   "cell_type": "markdown",
   "id": "497bd0bd",
   "metadata": {},
   "source": [
    "### Number of users with mutliple billing accounts per streaming service \n"
   ]
  },
  {
   "cell_type": "code",
   "execution_count": 103,
   "id": "4ce860eb",
   "metadata": {},
   "outputs": [
    {
     "name": "stdout",
     "output_type": "stream",
     "text": [
      "  STREAMING_SERVICE  NUM_CUSTOMERS  PERCENTAGE_OF_CUSTOMERS\n",
      "0      AMAZON PRIME           1438                 2.876345\n",
      "1            DISNEY            295                 0.590071\n",
      "2           NETFLIX          15696                31.395767\n",
      "3         PARAMOUNT            275                 0.550066\n",
      "4              STAN          13929                27.861343\n"
     ]
    }
   ],
   "source": [
    "query = '''\n",
    "    WITH total_customers AS (\n",
    "        SELECT COUNT(*) as total FROM BasicAccInfo\n",
    "    )\n",
    "    SELECT STREAMING_SERVICE, \n",
    "           COUNT(*) as NUM_CUSTOMERS,\n",
    "           (COUNT(*) * 100.0 / (SELECT total FROM total_customers)) as PERCENTAGE_OF_CUSTOMERS\n",
    "    FROM BasicAccInfo\n",
    "    WHERE NUM_CUSTOMER_BILLABLE_ACCOUNTS > 1\n",
    "    GROUP BY STREAMING_SERVICE\n",
    "'''\n",
    "\n",
    "with engine.connect() as connection:\n",
    "    result = connection.execute(text(query))\n",
    "    data = result.fetchall()\n",
    "    df = pd.DataFrame(data, columns=result.keys())\n",
    "    print(df)"
   ]
  },
  {
   "cell_type": "markdown",
   "id": "7b6cbc26",
   "metadata": {},
   "source": [
    "### Number of discounted users per streaming service\n"
   ]
  },
  {
   "cell_type": "code",
   "execution_count": 105,
   "id": "dbac543d",
   "metadata": {},
   "outputs": [
    {
     "name": "stdout",
     "output_type": "stream",
     "text": [
      "  STREAMING_SERVICE  NUM_CUSTOMERS  PERCENTAGE_OF_CUSTOMERS\n",
      "0      AMAZON PRIME           1438                 2.876345\n",
      "1            DISNEY            295                 0.590071\n",
      "2           NETFLIX          15696                31.395767\n",
      "3         PARAMOUNT            275                 0.550066\n",
      "4              STAN          13929                27.861343\n"
     ]
    }
   ],
   "source": [
    "query = '''\n",
    "    WITH total_customers AS (\n",
    "        SELECT COUNT(*) as total FROM BasicAccInfo\n",
    "    )\n",
    "    SELECT STREAMING_SERVICE, \n",
    "           COUNT(*) as NUM_CUSTOMERS,\n",
    "           (COUNT(*) * 100.0 / (SELECT total FROM total_customers)) as PERCENTAGE_OF_CUSTOMERS\n",
    "    FROM BasicAccInfo\n",
    "    WHERE NUM_CUSTOMER_BILLABLE_ACCOUNTS > 1\n",
    "    GROUP BY STREAMING_SERVICE\n",
    "'''\n",
    "\n",
    "with engine.connect() as connection:\n",
    "    result = connection.execute(text(query))\n",
    "    data = result.fetchall()\n",
    "    df = pd.DataFrame(data, columns=result.keys())\n",
    "    print(df)"
   ]
  },
  {
   "cell_type": "markdown",
   "id": "b585ea29",
   "metadata": {},
   "source": [
    "### Number of sports subsidised users per streaming service \n"
   ]
  },
  {
   "cell_type": "code",
   "execution_count": 106,
   "id": "7eebe852",
   "metadata": {},
   "outputs": [
    {
     "name": "stdout",
     "output_type": "stream",
     "text": [
      "  STREAMING_SERVICE  NUM_CUSTOMERS  PERCENTAGE_OF_CUSTOMERS\n",
      "0      AMAZON PRIME            244                 0.488059\n",
      "1            DISNEY            801                 1.602192\n",
      "2           NETFLIX           2676                 5.352642\n",
      "3         PARAMOUNT             45                 0.090011\n",
      "4              STAN           1684                 3.368404\n"
     ]
    }
   ],
   "source": [
    "query = '''\n",
    "    WITH total_customers AS (\n",
    "        SELECT COUNT(*) as total FROM BasicAccInfo\n",
    "    )\n",
    "    SELECT STREAMING_SERVICE, \n",
    "           COUNT(*) as NUM_CUSTOMERS,\n",
    "           (COUNT(*) * 100.0 / (SELECT total FROM total_customers)) as PERCENTAGE_OF_CUSTOMERS\n",
    "    FROM BasicAccInfo\n",
    "    WHERE CONSUME_SPORTS_SUBSIDISED > 0\n",
    "    GROUP BY STREAMING_SERVICE\n",
    "'''\n",
    "\n",
    "with engine.connect() as connection:\n",
    "    result = connection.execute(text(query))\n",
    "    data = result.fetchall()\n",
    "    df = pd.DataFrame(data, columns=result.keys())\n",
    "    print(df)"
   ]
  },
  {
   "cell_type": "markdown",
   "id": "05da23f2",
   "metadata": {},
   "source": [
    "### Number of users using bpay per streaming service "
   ]
  },
  {
   "cell_type": "code",
   "execution_count": 111,
   "id": "43415deb",
   "metadata": {},
   "outputs": [
    {
     "name": "stdout",
     "output_type": "stream",
     "text": [
      "  STREAMING_SERVICE  NUM_CUSTOMERS  PERCENTAGE_OF_CUSTOMERS\n",
      "0      AMAZON PRIME            622                 1.777143\n",
      "1            DISNEY            781                 2.231429\n",
      "2           NETFLIX           7731                22.088571\n",
      "3         PARAMOUNT             85                 0.242857\n",
      "4              STAN           5659                16.168571\n"
     ]
    }
   ],
   "source": [
    "query = '''\n",
    "    WITH total_customers AS (\n",
    "        SELECT COUNT(*) as total FROM PaymentInfo\n",
    "    )\n",
    "    SELECT STREAMING_SERVICE, \n",
    "           COUNT(*) as NUM_CUSTOMERS,\n",
    "           (COUNT(*) * 100.0 / (SELECT total FROM total_customers)) as PERCENTAGE_OF_CUSTOMERS\n",
    "    FROM PaymentInfo\n",
    "    JOIN BasicAccInfo ON PaymentInfo.ACCT_ID_M = BasicAccInfo.ACCT_ID_M\n",
    "    WHERE CHANNEL_PAY_BPAY_12M > 0\n",
    "    GROUP BY STREAMING_SERVICE\n",
    "'''\n",
    "\n",
    "with engine.connect() as connection:\n",
    "    result = connection.execute(text(query))\n",
    "    data = result.fetchall()\n",
    "    df = pd.DataFrame(data, columns=result.keys())\n",
    "    print(df)"
   ]
  },
  {
   "cell_type": "code",
   "execution_count": null,
   "id": "1f65586c",
   "metadata": {},
   "outputs": [],
   "source": []
  }
 ],
 "metadata": {
  "kernelspec": {
   "display_name": "Python 3 (ipykernel)",
   "language": "python",
   "name": "python3"
  },
  "language_info": {
   "codemirror_mode": {
    "name": "ipython",
    "version": 3
   },
   "file_extension": ".py",
   "mimetype": "text/x-python",
   "name": "python",
   "nbconvert_exporter": "python",
   "pygments_lexer": "ipython3",
   "version": "3.9.13"
  }
 },
 "nbformat": 4,
 "nbformat_minor": 5
}
